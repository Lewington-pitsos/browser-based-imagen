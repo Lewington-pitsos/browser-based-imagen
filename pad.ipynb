{
 "cells": [
  {
   "cell_type": "code",
   "execution_count": 1,
   "id": "d6922371",
   "metadata": {},
   "outputs": [
    {
     "name": "stderr",
     "output_type": "stream",
     "text": [
      "NOTE: Redirects are currently not supported in Windows or MacOs.\n",
      "C:\\Python310\\lib\\site-packages\\beartype\\_util\\hint\\pep\\utilpeptest.py:345: BeartypeDecorHintPep585DeprecationWarning: PEP 484 type hint typing.List[str] deprecated by PEP 585 scheduled for removal in the first Python version released after October 5th, 2025. To resolve this, import this hint from \"beartype.typing\" rather than \"typing\". See this discussion for further details and alternatives:\n",
      "    https://github.com/beartype/beartype#pep-585-deprecations\n",
      "  warn(\n"
     ]
    }
   ],
   "source": [
    "import onnxruntime as ort\n",
    "import onnx\n",
    "import torch\n",
    "from imagen_pytorch.t5 import t5_encode_text\n",
    "from einops import rearrange, repeat, reduce, pack, unpack\n",
    "import numpy as np\n",
    "from tqdm import tqdm\n",
    "import torchvision.transforms as T\n",
    "import json"
   ]
  },
  {
   "cell_type": "code",
   "execution_count": 2,
   "id": "157a4540",
   "metadata": {},
   "outputs": [],
   "source": [
    "enc, mask = t5_encode_text([\"a photo of a truck\"], return_attn_mask = True)\n",
    "# out = u.sample(enc, mask, 1., torch.device('cuda'), use_tqdm=False)\n",
    "# print(out)\n",
    "# img = T.ToPILImage()(out[0])\n",
    "# img.save(\"truck-12.png\")\n",
    "# img"
   ]
  },
  {
   "cell_type": "code",
   "execution_count": 3,
   "id": "5971888f",
   "metadata": {},
   "outputs": [
    {
     "data": {
      "text/plain": [
       "tensor([[[-0.0488,  0.0970, -0.0506,  ...,  0.0273,  0.1872,  0.0680],\n",
       "         [-0.1462,  0.1518, -0.0457,  ...,  0.1244,  0.2352,  0.1052],\n",
       "         [ 0.1742,  0.0629,  0.0402,  ...,  0.2023,  0.0219, -0.2089],\n",
       "         ...,\n",
       "         [ 0.1827,  0.0657,  0.1491,  ..., -0.0903, -0.0265,  0.1046],\n",
       "         [ 0.0444,  0.1756, -0.0850,  ..., -0.1722,  0.0901,  0.1011],\n",
       "         [ 0.0074,  0.0045,  0.0046,  ..., -0.0018,  0.0175,  0.0081]]],\n",
       "       device='cuda:0')"
      ]
     },
     "execution_count": 3,
     "metadata": {},
     "output_type": "execute_result"
    }
   ],
   "source": [
    "enc"
   ]
  },
  {
   "cell_type": "code",
   "execution_count": 4,
   "id": "eebe8fbe",
   "metadata": {},
   "outputs": [],
   "source": [
    "ort_session = ort.InferenceSession(\"toymodel/build/unet-32.onnx\")"
   ]
  },
  {
   "cell_type": "code",
   "execution_count": 5,
   "id": "7b7b719d",
   "metadata": {},
   "outputs": [],
   "source": [
    "def get_sampling_timesteps(num_timesteps, batch, *, device):\n",
    "    times = torch.linspace(1., 0., num_timesteps + 1, device = device)\n",
    "    times = repeat(times, 't -> b t', b = batch)\n",
    "    times = torch.stack((times[:, :-1], times[:, 1:]), dim = 0)\n",
    "    times = times.unbind(dim = -1)\n",
    "    return times"
   ]
  },
  {
   "cell_type": "code",
   "execution_count": 6,
   "id": "a0cf6631",
   "metadata": {},
   "outputs": [],
   "source": [
    "# outputs = ort_session.run(\n",
    "#     None,\n",
    "#     {\n",
    "#             'image': np.array(torch.randn(1, 3, 32, 32)).astype(np.float32), \n",
    "#             'text_embeds': np.array(enc.cpu()).astype(np.float32),\n",
    "#             'text_mask': np.array(mask.cpu()),\n",
    "#             'timestep': np.array(torch.Tensor([0.99])).astype(np.float32),\n",
    "#             'time_next': np.array(torch.Tensor([0.95])).astype(np.float32),\n",
    "#             'cond_scale': np.array([1.]).astype(np.float32)\n",
    "#     })"
   ]
  },
  {
   "cell_type": "code",
   "execution_count": 7,
   "id": "33eecc06",
   "metadata": {},
   "outputs": [],
   "source": [
    "timesteps = get_sampling_timesteps(250, 1, device=torch.device('cpu'))"
   ]
  },
  {
   "cell_type": "code",
   "execution_count": 8,
   "id": "20ee1b13",
   "metadata": {},
   "outputs": [],
   "source": [
    "img = np.array(torch.randn(1, 3, 32, 32)).astype(np.float32)"
   ]
  },
  {
   "cell_type": "code",
   "execution_count": 8,
   "id": "c5bf6679",
   "metadata": {},
   "outputs": [],
   "source": [
    "# enc_arry = np.array(enc.cpu()).astype(np.float32)\n",
    "# mask_arry = np.array(mask.cpu())\n",
    "# ts = np.array([0.996]).astype(np.float32)\n",
    "# next_ts = np.array([0.992]).astype(np.float32)\n",
    "# cond_scale = np.array([1.1]).astype(np.float32)\n",
    "\n",
    "# outputs = ort_session.run(\n",
    "#         None,\n",
    "#         {\n",
    "#                 'image': img,\n",
    "#                 'text_embeds': enc_arry,\n",
    "#                 'text_mask': mask_arry,\n",
    "#                 'timestep': ts,\n",
    "#                 'time_next': next_ts,\n",
    "#                 'cond_scale': cond_scale\n",
    "#         }\n",
    "#     )\n",
    "\n",
    "# data = {}\n",
    "\n",
    "# data['image'] = img.tolist()\n",
    "# data['text_embeds'] = enc_arry.tolist()\n",
    "# data['text_mask'] = mask_arry.tolist()\n",
    "# data['timestep'] = ts.tolist()\n",
    "# data['time_next'] = next_ts.tolist()\n",
    "# data['cond_scale'] = cond_scale.tolist()\n",
    "# data['expected'] = outputs[0].tolist()\n",
    "\n",
    "# with open('toymodel/public/inputs.json', 'w') as f:\n",
    "#     json.dump(data, f)"
   ]
  },
  {
   "cell_type": "code",
   "execution_count": 3,
   "id": "f2908993",
   "metadata": {},
   "outputs": [],
   "source": [
    "# with open('toymodel/public/inputs.json') as f:\n",
    "#     data = json.load(f)"
   ]
  },
  {
   "cell_type": "code",
   "execution_count": 26,
   "id": "0db5e143",
   "metadata": {},
   "outputs": [],
   "source": [
    "# second = ort_session.run(\n",
    "#         None,\n",
    "#         {\n",
    "#                 'image': np.array(data['image']).astype(np.float32),\n",
    "#                 'text_embeds': np.array(data['text_embeds']).astype(np.float32),\n",
    "#                 'text_mask': np.array(data['text_mask']),\n",
    "#                 'timestep': np.array(data['timestep']).astype(np.float32),\n",
    "#                 'time_next': np.array(data['time_next']).astype(np.float32),\n",
    "#                 'cond_scale': np.array(data['cond_scale']).astype(np.float32)\n",
    "#         }\n",
    "#     )"
   ]
  },
  {
   "cell_type": "code",
   "execution_count": 9,
   "id": "77445c8d",
   "metadata": {},
   "outputs": [
    {
     "name": "stderr",
     "output_type": "stream",
     "text": [
      "  0%|▎                                                                                 | 1/249 [00:00<00:50,  4.96it/s]"
     ]
    },
    {
     "name": "stdout",
     "output_type": "stream",
     "text": [
      "tensor([0.9960]) tensor([0.9920])\n"
     ]
    },
    {
     "name": "stderr",
     "output_type": "stream",
     "text": [
      "\r",
      "  1%|▋                                                                                 | 2/249 [00:00<00:39,  6.19it/s]"
     ]
    },
    {
     "name": "stdout",
     "output_type": "stream",
     "text": [
      "tensor([0.9920]) tensor([0.9880])\n",
      "tensor([0.9880]) tensor([0.9840])\n"
     ]
    },
    {
     "name": "stderr",
     "output_type": "stream",
     "text": [
      "  2%|█▎                                                                                | 4/249 [00:00<00:36,  6.63it/s]"
     ]
    },
    {
     "name": "stdout",
     "output_type": "stream",
     "text": [
      "tensor([0.9840]) tensor([0.9800])\n",
      "tensor([0.9800]) tensor([0.9760])\n"
     ]
    },
    {
     "name": "stderr",
     "output_type": "stream",
     "text": [
      "  2%|█▉                                                                                | 6/249 [00:00<00:34,  6.97it/s]"
     ]
    },
    {
     "name": "stdout",
     "output_type": "stream",
     "text": [
      "tensor([0.9760]) tensor([0.9720])\n",
      "tensor([0.9720]) tensor([0.9680])\n"
     ]
    },
    {
     "name": "stderr",
     "output_type": "stream",
     "text": [
      "  3%|██▋                                                                               | 8/249 [00:01<00:34,  6.96it/s]"
     ]
    },
    {
     "name": "stdout",
     "output_type": "stream",
     "text": [
      "tensor([0.9680]) tensor([0.9640])\n",
      "tensor([0.9640]) tensor([0.9600])\n"
     ]
    },
    {
     "name": "stderr",
     "output_type": "stream",
     "text": [
      "  4%|███▎                                                                             | 10/249 [00:01<00:33,  7.08it/s]"
     ]
    },
    {
     "name": "stdout",
     "output_type": "stream",
     "text": [
      "tensor([0.9600]) tensor([0.9560])\n",
      "tensor([0.9560]) tensor([0.9520])\n"
     ]
    },
    {
     "name": "stderr",
     "output_type": "stream",
     "text": [
      "  5%|███▉                                                                             | 12/249 [00:01<00:34,  6.88it/s]"
     ]
    },
    {
     "name": "stdout",
     "output_type": "stream",
     "text": [
      "tensor([0.9520]) tensor([0.9480])\n",
      "tensor([0.9480]) tensor([0.9440])\n"
     ]
    },
    {
     "name": "stderr",
     "output_type": "stream",
     "text": [
      "  6%|████▌                                                                            | 14/249 [00:02<00:34,  6.80it/s]"
     ]
    },
    {
     "name": "stdout",
     "output_type": "stream",
     "text": [
      "tensor([0.9440]) tensor([0.9400])\n",
      "tensor([0.9400]) tensor([0.9360])\n"
     ]
    },
    {
     "name": "stderr",
     "output_type": "stream",
     "text": [
      "  6%|█████▏                                                                           | 16/249 [00:02<00:34,  6.81it/s]"
     ]
    },
    {
     "name": "stdout",
     "output_type": "stream",
     "text": [
      "tensor([0.9360]) tensor([0.9320])\n",
      "tensor([0.9320]) tensor([0.9280])\n"
     ]
    },
    {
     "name": "stderr",
     "output_type": "stream",
     "text": [
      "  7%|█████▊                                                                           | 18/249 [00:02<00:34,  6.77it/s]"
     ]
    },
    {
     "name": "stdout",
     "output_type": "stream",
     "text": [
      "tensor([0.9280]) tensor([0.9240])\n",
      "tensor([0.9240]) tensor([0.9200])\n"
     ]
    },
    {
     "name": "stderr",
     "output_type": "stream",
     "text": [
      "  8%|██████▌                                                                          | 20/249 [00:02<00:33,  6.84it/s]"
     ]
    },
    {
     "name": "stdout",
     "output_type": "stream",
     "text": [
      "tensor([0.9200]) tensor([0.9160])\n",
      "tensor([0.9160]) tensor([0.9120])\n"
     ]
    },
    {
     "name": "stderr",
     "output_type": "stream",
     "text": [
      "  9%|███████▏                                                                         | 22/249 [00:03<00:32,  7.01it/s]"
     ]
    },
    {
     "name": "stdout",
     "output_type": "stream",
     "text": [
      "tensor([0.9120]) tensor([0.9080])\n",
      "tensor([0.9080]) tensor([0.9040])\n"
     ]
    },
    {
     "name": "stderr",
     "output_type": "stream",
     "text": [
      " 10%|███████▊                                                                         | 24/249 [00:03<00:31,  7.13it/s]"
     ]
    },
    {
     "name": "stdout",
     "output_type": "stream",
     "text": [
      "tensor([0.9040]) tensor([0.9000])\n",
      "tensor([0.9000]) tensor([0.8960])\n"
     ]
    },
    {
     "name": "stderr",
     "output_type": "stream",
     "text": [
      " 10%|████████▍                                                                        | 26/249 [00:03<00:31,  7.08it/s]"
     ]
    },
    {
     "name": "stdout",
     "output_type": "stream",
     "text": [
      "tensor([0.8960]) tensor([0.8920])\n",
      "tensor([0.8920]) tensor([0.8880])\n"
     ]
    },
    {
     "name": "stderr",
     "output_type": "stream",
     "text": [
      " 11%|█████████                                                                        | 28/249 [00:04<00:31,  7.04it/s]"
     ]
    },
    {
     "name": "stdout",
     "output_type": "stream",
     "text": [
      "tensor([0.8880]) tensor([0.8840])\n",
      "tensor([0.8840]) tensor([0.8800])\n"
     ]
    },
    {
     "name": "stderr",
     "output_type": "stream",
     "text": [
      " 12%|█████████▊                                                                       | 30/249 [00:04<00:31,  7.04it/s]"
     ]
    },
    {
     "name": "stdout",
     "output_type": "stream",
     "text": [
      "tensor([0.8800]) tensor([0.8760])\n",
      "tensor([0.8760]) tensor([0.8720])\n"
     ]
    },
    {
     "name": "stderr",
     "output_type": "stream",
     "text": [
      " 13%|██████████▍                                                                      | 32/249 [00:04<00:30,  7.00it/s]"
     ]
    },
    {
     "name": "stdout",
     "output_type": "stream",
     "text": [
      "tensor([0.8720]) tensor([0.8680])\n",
      "tensor([0.8680]) tensor([0.8640])\n"
     ]
    },
    {
     "name": "stderr",
     "output_type": "stream",
     "text": [
      " 14%|███████████                                                                      | 34/249 [00:04<00:32,  6.54it/s]"
     ]
    },
    {
     "name": "stdout",
     "output_type": "stream",
     "text": [
      "tensor([0.8640]) tensor([0.8600])\n",
      "tensor([0.8600]) tensor([0.8560])\n"
     ]
    },
    {
     "name": "stderr",
     "output_type": "stream",
     "text": [
      " 14%|███████████▋                                                                     | 36/249 [00:05<00:31,  6.71it/s]"
     ]
    },
    {
     "name": "stdout",
     "output_type": "stream",
     "text": [
      "tensor([0.8560]) tensor([0.8520])\n",
      "tensor([0.8520]) tensor([0.8480])\n"
     ]
    },
    {
     "name": "stderr",
     "output_type": "stream",
     "text": [
      " 15%|████████████▎                                                                    | 38/249 [00:05<00:30,  6.88it/s]"
     ]
    },
    {
     "name": "stdout",
     "output_type": "stream",
     "text": [
      "tensor([0.8480]) tensor([0.8440])\n",
      "tensor([0.8440]) tensor([0.8400])\n"
     ]
    },
    {
     "name": "stderr",
     "output_type": "stream",
     "text": [
      " 16%|█████████████                                                                    | 40/249 [00:05<00:29,  6.97it/s]"
     ]
    },
    {
     "name": "stdout",
     "output_type": "stream",
     "text": [
      "tensor([0.8400]) tensor([0.8360])\n",
      "tensor([0.8360]) tensor([0.8320])\n"
     ]
    },
    {
     "name": "stderr",
     "output_type": "stream",
     "text": [
      " 17%|█████████████▋                                                                   | 42/249 [00:06<00:29,  7.11it/s]"
     ]
    },
    {
     "name": "stdout",
     "output_type": "stream",
     "text": [
      "tensor([0.8320]) tensor([0.8280])\n",
      "tensor([0.8280]) tensor([0.8240])\n"
     ]
    },
    {
     "name": "stderr",
     "output_type": "stream",
     "text": [
      " 18%|██████████████▎                                                                  | 44/249 [00:06<00:28,  7.14it/s]"
     ]
    },
    {
     "name": "stdout",
     "output_type": "stream",
     "text": [
      "tensor([0.8240]) tensor([0.8200])\n",
      "tensor([0.8200]) tensor([0.8160])\n"
     ]
    },
    {
     "name": "stderr",
     "output_type": "stream",
     "text": [
      " 18%|██████████████▉                                                                  | 46/249 [00:06<00:28,  7.03it/s]"
     ]
    },
    {
     "name": "stdout",
     "output_type": "stream",
     "text": [
      "tensor([0.8160]) tensor([0.8120])\n",
      "tensor([0.8120]) tensor([0.8080])\n"
     ]
    },
    {
     "name": "stderr",
     "output_type": "stream",
     "text": [
      " 19%|███████████████▌                                                                 | 48/249 [00:06<00:28,  6.94it/s]"
     ]
    },
    {
     "name": "stdout",
     "output_type": "stream",
     "text": [
      "tensor([0.8080]) tensor([0.8040])\n",
      "tensor([0.8040]) tensor([0.8000])\n"
     ]
    },
    {
     "name": "stderr",
     "output_type": "stream",
     "text": [
      " 20%|████████████████▎                                                                | 50/249 [00:07<00:28,  6.97it/s]"
     ]
    },
    {
     "name": "stdout",
     "output_type": "stream",
     "text": [
      "tensor([0.8000]) tensor([0.7960])\n",
      "tensor([0.7960]) tensor([0.7920])\n"
     ]
    },
    {
     "name": "stderr",
     "output_type": "stream",
     "text": [
      " 21%|████████████████▉                                                                | 52/249 [00:07<00:27,  7.06it/s]"
     ]
    },
    {
     "name": "stdout",
     "output_type": "stream",
     "text": [
      "tensor([0.7920]) tensor([0.7880])\n",
      "tensor([0.7880]) tensor([0.7840])\n"
     ]
    },
    {
     "name": "stderr",
     "output_type": "stream",
     "text": [
      " 22%|█████████████████▌                                                               | 54/249 [00:07<00:27,  7.02it/s]"
     ]
    },
    {
     "name": "stdout",
     "output_type": "stream",
     "text": [
      "tensor([0.7840]) tensor([0.7800])\n",
      "tensor([0.7800]) tensor([0.7760])\n"
     ]
    },
    {
     "name": "stderr",
     "output_type": "stream",
     "text": [
      " 22%|██████████████████▏                                                              | 56/249 [00:08<00:27,  7.11it/s]"
     ]
    },
    {
     "name": "stdout",
     "output_type": "stream",
     "text": [
      "tensor([0.7760]) tensor([0.7720])\n",
      "tensor([0.7720]) tensor([0.7680])\n"
     ]
    },
    {
     "name": "stderr",
     "output_type": "stream",
     "text": [
      " 23%|██████████████████▊                                                              | 58/249 [00:08<00:26,  7.17it/s]"
     ]
    },
    {
     "name": "stdout",
     "output_type": "stream",
     "text": [
      "tensor([0.7680]) tensor([0.7640])\n",
      "tensor([0.7640]) tensor([0.7600])\n"
     ]
    },
    {
     "name": "stderr",
     "output_type": "stream",
     "text": [
      " 24%|███████████████████▌                                                             | 60/249 [00:08<00:27,  6.99it/s]"
     ]
    },
    {
     "name": "stdout",
     "output_type": "stream",
     "text": [
      "tensor([0.7600]) tensor([0.7560])\n",
      "tensor([0.7560]) tensor([0.7520])\n"
     ]
    },
    {
     "name": "stderr",
     "output_type": "stream",
     "text": [
      " 25%|████████████████████▏                                                            | 62/249 [00:08<00:26,  6.93it/s]"
     ]
    },
    {
     "name": "stdout",
     "output_type": "stream",
     "text": [
      "tensor([0.7520]) tensor([0.7480])\n",
      "tensor([0.7480]) tensor([0.7440])\n"
     ]
    },
    {
     "name": "stderr",
     "output_type": "stream",
     "text": [
      " 26%|████████████████████▊                                                            | 64/249 [00:09<00:26,  7.01it/s]"
     ]
    },
    {
     "name": "stdout",
     "output_type": "stream",
     "text": [
      "tensor([0.7440]) tensor([0.7400])\n",
      "tensor([0.7400]) tensor([0.7360])\n"
     ]
    },
    {
     "name": "stderr",
     "output_type": "stream",
     "text": [
      " 27%|█████████████████████▍                                                           | 66/249 [00:09<00:26,  7.03it/s]"
     ]
    },
    {
     "name": "stdout",
     "output_type": "stream",
     "text": [
      "tensor([0.7360]) tensor([0.7320])\n",
      "tensor([0.7320]) tensor([0.7280])\n"
     ]
    },
    {
     "name": "stderr",
     "output_type": "stream",
     "text": [
      " 27%|██████████████████████                                                           | 68/249 [00:09<00:25,  7.06it/s]"
     ]
    },
    {
     "name": "stdout",
     "output_type": "stream",
     "text": [
      "tensor([0.7280]) tensor([0.7240])\n",
      "tensor([0.7240]) tensor([0.7200])\n"
     ]
    },
    {
     "name": "stderr",
     "output_type": "stream",
     "text": [
      " 28%|██████████████████████▊                                                          | 70/249 [00:10<00:25,  7.15it/s]"
     ]
    },
    {
     "name": "stdout",
     "output_type": "stream",
     "text": [
      "tensor([0.7200]) tensor([0.7160])\n",
      "tensor([0.7160]) tensor([0.7120])\n"
     ]
    },
    {
     "name": "stderr",
     "output_type": "stream",
     "text": [
      " 29%|███████████████████████▍                                                         | 72/249 [00:10<00:25,  7.00it/s]"
     ]
    },
    {
     "name": "stdout",
     "output_type": "stream",
     "text": [
      "tensor([0.7120]) tensor([0.7080])\n",
      "tensor([0.7080]) tensor([0.7040])\n"
     ]
    },
    {
     "name": "stderr",
     "output_type": "stream",
     "text": [
      " 30%|████████████████████████                                                         | 74/249 [00:10<00:24,  7.10it/s]"
     ]
    },
    {
     "name": "stdout",
     "output_type": "stream",
     "text": [
      "tensor([0.7040]) tensor([0.7000])\n",
      "tensor([0.7000]) tensor([0.6960])\n"
     ]
    },
    {
     "name": "stderr",
     "output_type": "stream",
     "text": [
      " 31%|████████████████████████▋                                                        | 76/249 [00:10<00:24,  7.09it/s]"
     ]
    },
    {
     "name": "stdout",
     "output_type": "stream",
     "text": [
      "tensor([0.6960]) tensor([0.6920])\n",
      "tensor([0.6920]) tensor([0.6880])\n"
     ]
    },
    {
     "name": "stderr",
     "output_type": "stream",
     "text": [
      " 31%|█████████████████████████▎                                                       | 78/249 [00:11<00:24,  7.05it/s]"
     ]
    },
    {
     "name": "stdout",
     "output_type": "stream",
     "text": [
      "tensor([0.6880]) tensor([0.6840])\n",
      "tensor([0.6840]) tensor([0.6800])\n"
     ]
    },
    {
     "name": "stderr",
     "output_type": "stream",
     "text": [
      " 32%|██████████████████████████                                                       | 80/249 [00:11<00:23,  7.24it/s]"
     ]
    },
    {
     "name": "stdout",
     "output_type": "stream",
     "text": [
      "tensor([0.6800]) tensor([0.6760])\n",
      "tensor([0.6760]) tensor([0.6720])\n"
     ]
    },
    {
     "name": "stderr",
     "output_type": "stream",
     "text": [
      " 33%|██████████████████████████▋                                                      | 82/249 [00:11<00:23,  7.13it/s]"
     ]
    },
    {
     "name": "stdout",
     "output_type": "stream",
     "text": [
      "tensor([0.6720]) tensor([0.6680])\n",
      "tensor([0.6680]) tensor([0.6640])\n"
     ]
    },
    {
     "name": "stderr",
     "output_type": "stream",
     "text": [
      " 34%|███████████████████████████▎                                                     | 84/249 [00:12<00:23,  7.01it/s]"
     ]
    },
    {
     "name": "stdout",
     "output_type": "stream",
     "text": [
      "tensor([0.6640]) tensor([0.6600])\n",
      "tensor([0.6600]) tensor([0.6560])\n"
     ]
    },
    {
     "name": "stderr",
     "output_type": "stream",
     "text": [
      " 35%|███████████████████████████▉                                                     | 86/249 [00:12<00:22,  7.14it/s]"
     ]
    },
    {
     "name": "stdout",
     "output_type": "stream",
     "text": [
      "tensor([0.6560]) tensor([0.6520])\n",
      "tensor([0.6520]) tensor([0.6480])\n"
     ]
    },
    {
     "name": "stderr",
     "output_type": "stream",
     "text": [
      " 35%|████████████████████████████▋                                                    | 88/249 [00:12<00:22,  7.09it/s]"
     ]
    },
    {
     "name": "stdout",
     "output_type": "stream",
     "text": [
      "tensor([0.6480]) tensor([0.6440])\n",
      "tensor([0.6440]) tensor([0.6400])\n"
     ]
    },
    {
     "name": "stderr",
     "output_type": "stream",
     "text": [
      " 36%|█████████████████████████████▎                                                   | 90/249 [00:12<00:21,  7.23it/s]"
     ]
    },
    {
     "name": "stdout",
     "output_type": "stream",
     "text": [
      "tensor([0.6400]) tensor([0.6360])\n",
      "tensor([0.6360]) tensor([0.6320])\n"
     ]
    },
    {
     "name": "stderr",
     "output_type": "stream",
     "text": [
      " 37%|█████████████████████████████▉                                                   | 92/249 [00:13<00:22,  7.00it/s]"
     ]
    },
    {
     "name": "stdout",
     "output_type": "stream",
     "text": [
      "tensor([0.6320]) tensor([0.6280])\n",
      "tensor([0.6280]) tensor([0.6240])\n"
     ]
    },
    {
     "name": "stderr",
     "output_type": "stream",
     "text": [
      " 38%|██████████████████████████████▌                                                  | 94/249 [00:13<00:21,  7.11it/s]"
     ]
    },
    {
     "name": "stdout",
     "output_type": "stream",
     "text": [
      "tensor([0.6240]) tensor([0.6200])\n",
      "tensor([0.6200]) tensor([0.6160])\n"
     ]
    },
    {
     "name": "stderr",
     "output_type": "stream",
     "text": [
      " 39%|███████████████████████████████▏                                                 | 96/249 [00:13<00:21,  7.05it/s]"
     ]
    },
    {
     "name": "stdout",
     "output_type": "stream",
     "text": [
      "tensor([0.6160]) tensor([0.6120])\n",
      "tensor([0.6120]) tensor([0.6080])\n"
     ]
    },
    {
     "name": "stderr",
     "output_type": "stream",
     "text": [
      " 39%|███████████████████████████████▉                                                 | 98/249 [00:13<00:20,  7.26it/s]"
     ]
    },
    {
     "name": "stdout",
     "output_type": "stream",
     "text": [
      "tensor([0.6080]) tensor([0.6040])\n",
      "tensor([0.6040]) tensor([0.6000])\n"
     ]
    },
    {
     "name": "stderr",
     "output_type": "stream",
     "text": [
      " 40%|████████████████████████████████▏                                               | 100/249 [00:14<00:20,  7.19it/s]"
     ]
    },
    {
     "name": "stdout",
     "output_type": "stream",
     "text": [
      "tensor([0.6000]) tensor([0.5960])\n",
      "tensor([0.5960]) tensor([0.5920])\n"
     ]
    },
    {
     "name": "stderr",
     "output_type": "stream",
     "text": [
      " 41%|████████████████████████████████▊                                               | 102/249 [00:14<00:20,  7.12it/s]"
     ]
    },
    {
     "name": "stdout",
     "output_type": "stream",
     "text": [
      "tensor([0.5920]) tensor([0.5880])\n",
      "tensor([0.5880]) tensor([0.5840])\n"
     ]
    },
    {
     "name": "stderr",
     "output_type": "stream",
     "text": [
      " 42%|█████████████████████████████████▍                                              | 104/249 [00:14<00:20,  7.11it/s]"
     ]
    },
    {
     "name": "stdout",
     "output_type": "stream",
     "text": [
      "tensor([0.5840]) tensor([0.5800])\n",
      "tensor([0.5800]) tensor([0.5760])\n"
     ]
    },
    {
     "name": "stderr",
     "output_type": "stream",
     "text": [
      " 43%|██████████████████████████████████                                              | 106/249 [00:15<00:19,  7.17it/s]"
     ]
    },
    {
     "name": "stdout",
     "output_type": "stream",
     "text": [
      "tensor([0.5760]) tensor([0.5720])\n",
      "tensor([0.5720]) tensor([0.5680])\n"
     ]
    },
    {
     "name": "stderr",
     "output_type": "stream",
     "text": [
      " 43%|██████████████████████████████████▋                                             | 108/249 [00:15<00:20,  6.94it/s]"
     ]
    },
    {
     "name": "stdout",
     "output_type": "stream",
     "text": [
      "tensor([0.5680]) tensor([0.5640])\n",
      "tensor([0.5640]) tensor([0.5600])\n"
     ]
    },
    {
     "name": "stderr",
     "output_type": "stream",
     "text": [
      " 44%|███████████████████████████████████▎                                            | 110/249 [00:15<00:19,  6.97it/s]"
     ]
    },
    {
     "name": "stdout",
     "output_type": "stream",
     "text": [
      "tensor([0.5600]) tensor([0.5560])\n",
      "tensor([0.5560]) tensor([0.5520])\n"
     ]
    },
    {
     "name": "stderr",
     "output_type": "stream",
     "text": [
      " 45%|███████████████████████████████████▉                                            | 112/249 [00:15<00:19,  7.15it/s]"
     ]
    },
    {
     "name": "stdout",
     "output_type": "stream",
     "text": [
      "tensor([0.5520]) tensor([0.5480])\n",
      "tensor([0.5480]) tensor([0.5440])\n"
     ]
    },
    {
     "name": "stderr",
     "output_type": "stream",
     "text": [
      " 46%|████████████████████████████████████▋                                           | 114/249 [00:16<00:19,  7.09it/s]"
     ]
    },
    {
     "name": "stdout",
     "output_type": "stream",
     "text": [
      "tensor([0.5440]) tensor([0.5400])\n",
      "tensor([0.5400]) tensor([0.5360])\n"
     ]
    },
    {
     "name": "stderr",
     "output_type": "stream",
     "text": [
      " 47%|█████████████████████████████████████▎                                          | 116/249 [00:16<00:18,  7.16it/s]"
     ]
    },
    {
     "name": "stdout",
     "output_type": "stream",
     "text": [
      "tensor([0.5360]) tensor([0.5320])\n",
      "tensor([0.5320]) tensor([0.5280])\n"
     ]
    },
    {
     "name": "stderr",
     "output_type": "stream",
     "text": [
      " 47%|█████████████████████████████████████▉                                          | 118/249 [00:16<00:18,  7.10it/s]"
     ]
    },
    {
     "name": "stdout",
     "output_type": "stream",
     "text": [
      "tensor([0.5280]) tensor([0.5240])\n",
      "tensor([0.5240]) tensor([0.5200])\n"
     ]
    },
    {
     "name": "stderr",
     "output_type": "stream",
     "text": [
      " 48%|██████████████████████████████████████▌                                         | 120/249 [00:17<00:18,  7.10it/s]"
     ]
    },
    {
     "name": "stdout",
     "output_type": "stream",
     "text": [
      "tensor([0.5200]) tensor([0.5160])\n",
      "tensor([0.5160]) tensor([0.5120])\n"
     ]
    },
    {
     "name": "stderr",
     "output_type": "stream",
     "text": [
      " 49%|███████████████████████████████████████▏                                        | 122/249 [00:17<00:17,  7.10it/s]"
     ]
    },
    {
     "name": "stdout",
     "output_type": "stream",
     "text": [
      "tensor([0.5120]) tensor([0.5080])\n",
      "tensor([0.5080]) tensor([0.5040])\n"
     ]
    },
    {
     "name": "stderr",
     "output_type": "stream",
     "text": [
      " 50%|███████████████████████████████████████▊                                        | 124/249 [00:17<00:17,  6.98it/s]"
     ]
    },
    {
     "name": "stdout",
     "output_type": "stream",
     "text": [
      "tensor([0.5040]) tensor([0.5000])\n",
      "tensor([0.5000]) tensor([0.4960])\n"
     ]
    },
    {
     "name": "stderr",
     "output_type": "stream",
     "text": [
      " 51%|████████████████████████████████████████▍                                       | 126/249 [00:17<00:17,  7.03it/s]"
     ]
    },
    {
     "name": "stdout",
     "output_type": "stream",
     "text": [
      "tensor([0.4960]) tensor([0.4920])\n",
      "tensor([0.4920]) tensor([0.4880])\n"
     ]
    },
    {
     "name": "stderr",
     "output_type": "stream",
     "text": [
      " 51%|█████████████████████████████████████████                                       | 128/249 [00:18<00:17,  7.01it/s]"
     ]
    },
    {
     "name": "stdout",
     "output_type": "stream",
     "text": [
      "tensor([0.4880]) tensor([0.4840])\n",
      "tensor([0.4840]) tensor([0.4800])\n"
     ]
    },
    {
     "name": "stderr",
     "output_type": "stream",
     "text": [
      " 52%|█████████████████████████████████████████▊                                      | 130/249 [00:18<00:16,  7.02it/s]"
     ]
    },
    {
     "name": "stdout",
     "output_type": "stream",
     "text": [
      "tensor([0.4800]) tensor([0.4760])\n",
      "tensor([0.4760]) tensor([0.4720])\n"
     ]
    },
    {
     "name": "stderr",
     "output_type": "stream",
     "text": [
      " 53%|██████████████████████████████████████████▍                                     | 132/249 [00:18<00:16,  7.17it/s]"
     ]
    },
    {
     "name": "stdout",
     "output_type": "stream",
     "text": [
      "tensor([0.4720]) tensor([0.4680])\n",
      "tensor([0.4680]) tensor([0.4640])\n"
     ]
    },
    {
     "name": "stderr",
     "output_type": "stream",
     "text": [
      " 54%|███████████████████████████████████████████                                     | 134/249 [00:19<00:16,  7.02it/s]"
     ]
    },
    {
     "name": "stdout",
     "output_type": "stream",
     "text": [
      "tensor([0.4640]) tensor([0.4600])\n",
      "tensor([0.4600]) tensor([0.4560])\n"
     ]
    },
    {
     "name": "stderr",
     "output_type": "stream",
     "text": [
      " 55%|███████████████████████████████████████████▋                                    | 136/249 [00:19<00:16,  7.03it/s]"
     ]
    },
    {
     "name": "stdout",
     "output_type": "stream",
     "text": [
      "tensor([0.4560]) tensor([0.4520])\n",
      "tensor([0.4520]) tensor([0.4480])\n"
     ]
    },
    {
     "name": "stderr",
     "output_type": "stream",
     "text": [
      " 55%|████████████████████████████████████████████▎                                   | 138/249 [00:19<00:15,  6.97it/s]"
     ]
    },
    {
     "name": "stdout",
     "output_type": "stream",
     "text": [
      "tensor([0.4480]) tensor([0.4440])\n",
      "tensor([0.4440]) tensor([0.4400])\n"
     ]
    },
    {
     "name": "stderr",
     "output_type": "stream",
     "text": [
      " 56%|████████████████████████████████████████████▉                                   | 140/249 [00:19<00:15,  7.01it/s]"
     ]
    },
    {
     "name": "stdout",
     "output_type": "stream",
     "text": [
      "tensor([0.4400]) tensor([0.4360])\n",
      "tensor([0.4360]) tensor([0.4320])\n"
     ]
    },
    {
     "name": "stderr",
     "output_type": "stream",
     "text": [
      " 57%|█████████████████████████████████████████████▌                                  | 142/249 [00:20<00:15,  7.13it/s]"
     ]
    },
    {
     "name": "stdout",
     "output_type": "stream",
     "text": [
      "tensor([0.4320]) tensor([0.4280])\n",
      "tensor([0.4280]) tensor([0.4240])\n"
     ]
    },
    {
     "name": "stderr",
     "output_type": "stream",
     "text": [
      " 58%|██████████████████████████████████████████████▎                                 | 144/249 [00:20<00:14,  7.02it/s]"
     ]
    },
    {
     "name": "stdout",
     "output_type": "stream",
     "text": [
      "tensor([0.4240]) tensor([0.4200])\n",
      "tensor([0.4200]) tensor([0.4160])\n"
     ]
    },
    {
     "name": "stderr",
     "output_type": "stream",
     "text": [
      " 59%|██████████████████████████████████████████████▉                                 | 146/249 [00:20<00:14,  7.02it/s]"
     ]
    },
    {
     "name": "stdout",
     "output_type": "stream",
     "text": [
      "tensor([0.4160]) tensor([0.4120])\n",
      "tensor([0.4120]) tensor([0.4080])\n"
     ]
    },
    {
     "name": "stderr",
     "output_type": "stream",
     "text": [
      " 59%|███████████████████████████████████████████████▌                                | 148/249 [00:21<00:14,  7.18it/s]"
     ]
    },
    {
     "name": "stdout",
     "output_type": "stream",
     "text": [
      "tensor([0.4080]) tensor([0.4040])\n",
      "tensor([0.4040]) tensor([0.4000])\n"
     ]
    },
    {
     "name": "stderr",
     "output_type": "stream",
     "text": [
      " 60%|████████████████████████████████████████████████▏                               | 150/249 [00:21<00:13,  7.12it/s]"
     ]
    },
    {
     "name": "stdout",
     "output_type": "stream",
     "text": [
      "tensor([0.4000]) tensor([0.3960])\n",
      "tensor([0.3960]) tensor([0.3920])\n"
     ]
    },
    {
     "name": "stderr",
     "output_type": "stream",
     "text": [
      " 61%|████████████████████████████████████████████████▊                               | 152/249 [00:21<00:14,  6.90it/s]"
     ]
    },
    {
     "name": "stdout",
     "output_type": "stream",
     "text": [
      "tensor([0.3920]) tensor([0.3880])\n",
      "tensor([0.3880]) tensor([0.3840])\n"
     ]
    },
    {
     "name": "stderr",
     "output_type": "stream",
     "text": [
      " 62%|█████████████████████████████████████████████████▍                              | 154/249 [00:21<00:13,  7.12it/s]"
     ]
    },
    {
     "name": "stdout",
     "output_type": "stream",
     "text": [
      "tensor([0.3840]) tensor([0.3800])\n",
      "tensor([0.3800]) tensor([0.3760])\n"
     ]
    },
    {
     "name": "stderr",
     "output_type": "stream",
     "text": [
      " 63%|██████████████████████████████████████████████████                              | 156/249 [00:22<00:13,  7.07it/s]"
     ]
    },
    {
     "name": "stdout",
     "output_type": "stream",
     "text": [
      "tensor([0.3760]) tensor([0.3720])\n",
      "tensor([0.3720]) tensor([0.3680])\n"
     ]
    },
    {
     "name": "stderr",
     "output_type": "stream",
     "text": [
      " 63%|██████████████████████████████████████████████████▊                             | 158/249 [00:22<00:12,  7.15it/s]"
     ]
    },
    {
     "name": "stdout",
     "output_type": "stream",
     "text": [
      "tensor([0.3680]) tensor([0.3640])\n",
      "tensor([0.3640]) tensor([0.3600])\n"
     ]
    },
    {
     "name": "stderr",
     "output_type": "stream",
     "text": [
      " 64%|███████████████████████████████████████████████████▍                            | 160/249 [00:22<00:12,  6.94it/s]"
     ]
    },
    {
     "name": "stdout",
     "output_type": "stream",
     "text": [
      "tensor([0.3600]) tensor([0.3560])\n",
      "tensor([0.3560]) tensor([0.3520])\n"
     ]
    },
    {
     "name": "stderr",
     "output_type": "stream",
     "text": [
      " 65%|████████████████████████████████████████████████████                            | 162/249 [00:23<00:12,  7.01it/s]"
     ]
    },
    {
     "name": "stdout",
     "output_type": "stream",
     "text": [
      "tensor([0.3520]) tensor([0.3480])\n",
      "tensor([0.3480]) tensor([0.3440])\n"
     ]
    },
    {
     "name": "stderr",
     "output_type": "stream",
     "text": [
      " 66%|████████████████████████████████████████████████████▋                           | 164/249 [00:23<00:12,  6.99it/s]"
     ]
    },
    {
     "name": "stdout",
     "output_type": "stream",
     "text": [
      "tensor([0.3440]) tensor([0.3400])\n",
      "tensor([0.3400]) tensor([0.3360])\n"
     ]
    },
    {
     "name": "stderr",
     "output_type": "stream",
     "text": [
      " 67%|█████████████████████████████████████████████████████▎                          | 166/249 [00:23<00:11,  7.07it/s]"
     ]
    },
    {
     "name": "stdout",
     "output_type": "stream",
     "text": [
      "tensor([0.3360]) tensor([0.3320])\n",
      "tensor([0.3320]) tensor([0.3280])\n"
     ]
    },
    {
     "name": "stderr",
     "output_type": "stream",
     "text": [
      " 67%|█████████████████████████████████████████████████████▉                          | 168/249 [00:23<00:11,  6.95it/s]"
     ]
    },
    {
     "name": "stdout",
     "output_type": "stream",
     "text": [
      "tensor([0.3280]) tensor([0.3240])\n",
      "tensor([0.3240]) tensor([0.3200])\n"
     ]
    },
    {
     "name": "stderr",
     "output_type": "stream",
     "text": [
      " 68%|██████████████████████████████████████████████████████▌                         | 170/249 [00:24<00:11,  7.00it/s]"
     ]
    },
    {
     "name": "stdout",
     "output_type": "stream",
     "text": [
      "tensor([0.3200]) tensor([0.3160])\n",
      "tensor([0.3160]) tensor([0.3120])\n"
     ]
    },
    {
     "name": "stderr",
     "output_type": "stream",
     "text": [
      " 69%|███████████████████████████████████████████████████████▎                        | 172/249 [00:24<00:11,  6.90it/s]"
     ]
    },
    {
     "name": "stdout",
     "output_type": "stream",
     "text": [
      "tensor([0.3120]) tensor([0.3080])\n",
      "tensor([0.3080]) tensor([0.3040])\n"
     ]
    },
    {
     "name": "stderr",
     "output_type": "stream",
     "text": [
      " 70%|███████████████████████████████████████████████████████▉                        | 174/249 [00:24<00:10,  7.01it/s]"
     ]
    },
    {
     "name": "stdout",
     "output_type": "stream",
     "text": [
      "tensor([0.3040]) tensor([0.3000])\n",
      "tensor([0.3000]) tensor([0.2960])\n"
     ]
    },
    {
     "name": "stderr",
     "output_type": "stream",
     "text": [
      " 71%|████████████████████████████████████████████████████████▌                       | 176/249 [00:25<00:10,  6.85it/s]"
     ]
    },
    {
     "name": "stdout",
     "output_type": "stream",
     "text": [
      "tensor([0.2960]) tensor([0.2920])\n",
      "tensor([0.2920]) tensor([0.2880])\n"
     ]
    },
    {
     "name": "stderr",
     "output_type": "stream",
     "text": [
      " 71%|█████████████████████████████████████████████████████████▏                      | 178/249 [00:25<00:10,  6.88it/s]"
     ]
    },
    {
     "name": "stdout",
     "output_type": "stream",
     "text": [
      "tensor([0.2880]) tensor([0.2840])\n",
      "tensor([0.2840]) tensor([0.2800])\n"
     ]
    },
    {
     "name": "stderr",
     "output_type": "stream",
     "text": [
      " 72%|█████████████████████████████████████████████████████████▊                      | 180/249 [00:25<00:09,  7.04it/s]"
     ]
    },
    {
     "name": "stdout",
     "output_type": "stream",
     "text": [
      "tensor([0.2800]) tensor([0.2760])\n",
      "tensor([0.2760]) tensor([0.2720])\n"
     ]
    },
    {
     "name": "stderr",
     "output_type": "stream",
     "text": [
      " 73%|██████████████████████████████████████████████████████████▍                     | 182/249 [00:25<00:09,  6.96it/s]"
     ]
    },
    {
     "name": "stdout",
     "output_type": "stream",
     "text": [
      "tensor([0.2720]) tensor([0.2680])\n",
      "tensor([0.2680]) tensor([0.2640])\n"
     ]
    },
    {
     "name": "stderr",
     "output_type": "stream",
     "text": [
      " 74%|███████████████████████████████████████████████████████████                     | 184/249 [00:26<00:09,  7.09it/s]"
     ]
    },
    {
     "name": "stdout",
     "output_type": "stream",
     "text": [
      "tensor([0.2640]) tensor([0.2600])\n",
      "tensor([0.2600]) tensor([0.2560])\n"
     ]
    },
    {
     "name": "stderr",
     "output_type": "stream",
     "text": [
      " 75%|███████████████████████████████████████████████████████████▊                    | 186/249 [00:26<00:08,  7.02it/s]"
     ]
    },
    {
     "name": "stdout",
     "output_type": "stream",
     "text": [
      "tensor([0.2560]) tensor([0.2520])\n",
      "tensor([0.2520]) tensor([0.2480])\n"
     ]
    },
    {
     "name": "stderr",
     "output_type": "stream",
     "text": [
      " 76%|████████████████████████████████████████████████████████████▍                   | 188/249 [00:26<00:08,  7.10it/s]"
     ]
    },
    {
     "name": "stdout",
     "output_type": "stream",
     "text": [
      "tensor([0.2480]) tensor([0.2440])\n",
      "tensor([0.2440]) tensor([0.2400])\n"
     ]
    },
    {
     "name": "stderr",
     "output_type": "stream",
     "text": [
      " 76%|█████████████████████████████████████████████████████████████                   | 190/249 [00:27<00:08,  7.00it/s]"
     ]
    },
    {
     "name": "stdout",
     "output_type": "stream",
     "text": [
      "tensor([0.2400]) tensor([0.2360])\n",
      "tensor([0.2360]) tensor([0.2320])\n"
     ]
    },
    {
     "name": "stderr",
     "output_type": "stream",
     "text": [
      " 77%|█████████████████████████████████████████████████████████████▋                  | 192/249 [00:27<00:08,  6.87it/s]"
     ]
    },
    {
     "name": "stdout",
     "output_type": "stream",
     "text": [
      "tensor([0.2320]) tensor([0.2280])\n",
      "tensor([0.2280]) tensor([0.2240])\n"
     ]
    },
    {
     "name": "stderr",
     "output_type": "stream",
     "text": [
      " 78%|██████████████████████████████████████████████████████████████▎                 | 194/249 [00:27<00:07,  7.00it/s]"
     ]
    },
    {
     "name": "stdout",
     "output_type": "stream",
     "text": [
      "tensor([0.2240]) tensor([0.2200])\n",
      "tensor([0.2200]) tensor([0.2160])\n"
     ]
    },
    {
     "name": "stderr",
     "output_type": "stream",
     "text": [
      " 79%|██████████████████████████████████████████████████████████████▉                 | 196/249 [00:27<00:07,  6.98it/s]"
     ]
    },
    {
     "name": "stdout",
     "output_type": "stream",
     "text": [
      "tensor([0.2160]) tensor([0.2120])\n",
      "tensor([0.2120]) tensor([0.2080])\n"
     ]
    },
    {
     "name": "stderr",
     "output_type": "stream",
     "text": [
      " 80%|███████████████████████████████████████████████████████████████▌                | 198/249 [00:28<00:07,  6.88it/s]"
     ]
    },
    {
     "name": "stdout",
     "output_type": "stream",
     "text": [
      "tensor([0.2080]) tensor([0.2040])\n",
      "tensor([0.2040]) tensor([0.2000])\n"
     ]
    },
    {
     "name": "stderr",
     "output_type": "stream",
     "text": [
      " 80%|████████████████████████████████████████████████████████████████▎               | 200/249 [00:28<00:06,  7.03it/s]"
     ]
    },
    {
     "name": "stdout",
     "output_type": "stream",
     "text": [
      "tensor([0.2000]) tensor([0.1960])\n",
      "tensor([0.1960]) tensor([0.1920])\n"
     ]
    },
    {
     "name": "stderr",
     "output_type": "stream",
     "text": [
      " 81%|████████████████████████████████████████████████████████████████▉               | 202/249 [00:28<00:06,  6.84it/s]"
     ]
    },
    {
     "name": "stdout",
     "output_type": "stream",
     "text": [
      "tensor([0.1920]) tensor([0.1880])\n",
      "tensor([0.1880]) tensor([0.1840])\n"
     ]
    },
    {
     "name": "stderr",
     "output_type": "stream",
     "text": [
      " 82%|█████████████████████████████████████████████████████████████████▌              | 204/249 [00:29<00:06,  6.82it/s]"
     ]
    },
    {
     "name": "stdout",
     "output_type": "stream",
     "text": [
      "tensor([0.1840]) tensor([0.1800])\n",
      "tensor([0.1800]) tensor([0.1760])\n"
     ]
    },
    {
     "name": "stderr",
     "output_type": "stream",
     "text": [
      " 83%|██████████████████████████████████████████████████████████████████▏             | 206/249 [00:29<00:06,  6.96it/s]"
     ]
    },
    {
     "name": "stdout",
     "output_type": "stream",
     "text": [
      "tensor([0.1760]) tensor([0.1720])\n",
      "tensor([0.1720]) tensor([0.1680])\n"
     ]
    },
    {
     "name": "stderr",
     "output_type": "stream",
     "text": [
      " 84%|██████████████████████████████████████████████████████████████████▊             | 208/249 [00:29<00:05,  6.90it/s]"
     ]
    },
    {
     "name": "stdout",
     "output_type": "stream",
     "text": [
      "tensor([0.1680]) tensor([0.1640])\n",
      "tensor([0.1640]) tensor([0.1600])\n"
     ]
    },
    {
     "name": "stderr",
     "output_type": "stream",
     "text": [
      " 84%|███████████████████████████████████████████████████████████████████▍            | 210/249 [00:29<00:05,  7.01it/s]"
     ]
    },
    {
     "name": "stdout",
     "output_type": "stream",
     "text": [
      "tensor([0.1600]) tensor([0.1560])\n",
      "tensor([0.1560]) tensor([0.1520])\n"
     ]
    },
    {
     "name": "stderr",
     "output_type": "stream",
     "text": [
      " 85%|████████████████████████████████████████████████████████████████████            | 212/249 [00:30<00:05,  7.02it/s]"
     ]
    },
    {
     "name": "stdout",
     "output_type": "stream",
     "text": [
      "tensor([0.1520]) tensor([0.1480])\n",
      "tensor([0.1480]) tensor([0.1440])\n"
     ]
    },
    {
     "name": "stderr",
     "output_type": "stream",
     "text": [
      " 86%|████████████████████████████████████████████████████████████████████▊           | 214/249 [00:30<00:05,  6.92it/s]"
     ]
    },
    {
     "name": "stdout",
     "output_type": "stream",
     "text": [
      "tensor([0.1440]) tensor([0.1400])\n",
      "tensor([0.1400]) tensor([0.1360])\n"
     ]
    },
    {
     "name": "stderr",
     "output_type": "stream",
     "text": [
      " 87%|█████████████████████████████████████████████████████████████████████▍          | 216/249 [00:30<00:04,  6.88it/s]"
     ]
    },
    {
     "name": "stdout",
     "output_type": "stream",
     "text": [
      "tensor([0.1360]) tensor([0.1320])\n",
      "tensor([0.1320]) tensor([0.1280])\n"
     ]
    },
    {
     "name": "stderr",
     "output_type": "stream",
     "text": [
      " 88%|██████████████████████████████████████████████████████████████████████          | 218/249 [00:31<00:04,  6.98it/s]"
     ]
    },
    {
     "name": "stdout",
     "output_type": "stream",
     "text": [
      "tensor([0.1280]) tensor([0.1240])\n",
      "tensor([0.1240]) tensor([0.1200])\n"
     ]
    },
    {
     "name": "stderr",
     "output_type": "stream",
     "text": [
      " 88%|██████████████████████████████████████████████████████████████████████▋         | 220/249 [00:31<00:04,  6.94it/s]"
     ]
    },
    {
     "name": "stdout",
     "output_type": "stream",
     "text": [
      "tensor([0.1200]) tensor([0.1160])\n",
      "tensor([0.1160]) tensor([0.1120])\n"
     ]
    },
    {
     "name": "stderr",
     "output_type": "stream",
     "text": [
      " 89%|███████████████████████████████████████████████████████████████████████▎        | 222/249 [00:31<00:03,  6.81it/s]"
     ]
    },
    {
     "name": "stdout",
     "output_type": "stream",
     "text": [
      "tensor([0.1120]) tensor([0.1080])\n",
      "tensor([0.1080]) tensor([0.1040])\n"
     ]
    },
    {
     "name": "stderr",
     "output_type": "stream",
     "text": [
      " 90%|███████████████████████████████████████████████████████████████████████▉        | 224/249 [00:31<00:03,  6.97it/s]"
     ]
    },
    {
     "name": "stdout",
     "output_type": "stream",
     "text": [
      "tensor([0.1040]) tensor([0.1000])\n",
      "tensor([0.1000]) tensor([0.0960])\n"
     ]
    },
    {
     "name": "stderr",
     "output_type": "stream",
     "text": [
      " 91%|████████████████████████████████████████████████████████████████████████▌       | 226/249 [00:32<00:03,  6.92it/s]"
     ]
    },
    {
     "name": "stdout",
     "output_type": "stream",
     "text": [
      "tensor([0.0960]) tensor([0.0920])\n",
      "tensor([0.0920]) tensor([0.0880])\n"
     ]
    },
    {
     "name": "stderr",
     "output_type": "stream",
     "text": [
      " 92%|█████████████████████████████████████████████████████████████████████████▎      | 228/249 [00:32<00:03,  6.98it/s]"
     ]
    },
    {
     "name": "stdout",
     "output_type": "stream",
     "text": [
      "tensor([0.0880]) tensor([0.0840])\n",
      "tensor([0.0840]) tensor([0.0800])\n"
     ]
    },
    {
     "name": "stderr",
     "output_type": "stream",
     "text": [
      " 92%|█████████████████████████████████████████████████████████████████████████▉      | 230/249 [00:32<00:02,  7.00it/s]"
     ]
    },
    {
     "name": "stdout",
     "output_type": "stream",
     "text": [
      "tensor([0.0800]) tensor([0.0760])\n",
      "tensor([0.0760]) tensor([0.0720])\n"
     ]
    },
    {
     "name": "stderr",
     "output_type": "stream",
     "text": [
      " 93%|██████████████████████████████████████████████████████████████████████████▌     | 232/249 [00:33<00:02,  6.91it/s]"
     ]
    },
    {
     "name": "stdout",
     "output_type": "stream",
     "text": [
      "tensor([0.0720]) tensor([0.0680])\n",
      "tensor([0.0680]) tensor([0.0640])\n"
     ]
    },
    {
     "name": "stderr",
     "output_type": "stream",
     "text": [
      " 94%|███████████████████████████████████████████████████████████████████████████▏    | 234/249 [00:33<00:02,  6.89it/s]"
     ]
    },
    {
     "name": "stdout",
     "output_type": "stream",
     "text": [
      "tensor([0.0640]) tensor([0.0600])\n",
      "tensor([0.0600]) tensor([0.0560])\n"
     ]
    },
    {
     "name": "stderr",
     "output_type": "stream",
     "text": [
      " 95%|███████████████████████████████████████████████████████████████████████████▊    | 236/249 [00:33<00:01,  6.79it/s]"
     ]
    },
    {
     "name": "stdout",
     "output_type": "stream",
     "text": [
      "tensor([0.0560]) tensor([0.0520])\n",
      "tensor([0.0520]) tensor([0.0480])\n"
     ]
    },
    {
     "name": "stderr",
     "output_type": "stream",
     "text": [
      " 96%|████████████████████████████████████████████████████████████████████████████▍   | 238/249 [00:33<00:01,  6.87it/s]"
     ]
    },
    {
     "name": "stdout",
     "output_type": "stream",
     "text": [
      "tensor([0.0480]) tensor([0.0440])\n",
      "tensor([0.0440]) tensor([0.0400])\n"
     ]
    },
    {
     "name": "stderr",
     "output_type": "stream",
     "text": [
      " 96%|█████████████████████████████████████████████████████████████████████████████   | 240/249 [00:34<00:01,  7.05it/s]"
     ]
    },
    {
     "name": "stdout",
     "output_type": "stream",
     "text": [
      "tensor([0.0400]) tensor([0.0360])\n",
      "tensor([0.0360]) tensor([0.0320])\n"
     ]
    },
    {
     "name": "stderr",
     "output_type": "stream",
     "text": [
      " 97%|█████████████████████████████████████████████████████████████████████████████▊  | 242/249 [00:34<00:01,  6.86it/s]"
     ]
    },
    {
     "name": "stdout",
     "output_type": "stream",
     "text": [
      "tensor([0.0320]) tensor([0.0280])\n",
      "tensor([0.0280]) tensor([0.0240])\n"
     ]
    },
    {
     "name": "stderr",
     "output_type": "stream",
     "text": [
      " 98%|██████████████████████████████████████████████████████████████████████████████▍ | 244/249 [00:34<00:00,  6.94it/s]"
     ]
    },
    {
     "name": "stdout",
     "output_type": "stream",
     "text": [
      "tensor([0.0240]) tensor([0.0200])\n",
      "tensor([0.0200]) tensor([0.0160])\n"
     ]
    },
    {
     "name": "stderr",
     "output_type": "stream",
     "text": [
      " 99%|███████████████████████████████████████████████████████████████████████████████ | 246/249 [00:35<00:00,  6.99it/s]"
     ]
    },
    {
     "name": "stdout",
     "output_type": "stream",
     "text": [
      "tensor([0.0160]) tensor([0.0120])\n",
      "tensor([0.0120]) tensor([0.0080])\n"
     ]
    },
    {
     "name": "stderr",
     "output_type": "stream",
     "text": [
      "100%|███████████████████████████████████████████████████████████████████████████████▋| 248/249 [00:35<00:00,  6.78it/s]"
     ]
    },
    {
     "name": "stdout",
     "output_type": "stream",
     "text": [
      "tensor([0.0080]) tensor([0.0040])\n",
      "tensor([0.0040]) tensor([0.])\n"
     ]
    },
    {
     "name": "stderr",
     "output_type": "stream",
     "text": [
      "100%|████████████████████████████████████████████████████████████████████████████████| 249/249 [00:35<00:00,  7.00it/s]\n"
     ]
    }
   ],
   "source": [
    "img = np.array(torch.randn(1, 3, 32, 32)).astype(np.float32)\n",
    "\n",
    "count = 0\n",
    "for t, t_next in tqdm(timesteps[1:250]):\n",
    "    print(t, t_next)\n",
    "    outputs = ort_session.run(\n",
    "        None,\n",
    "        {\n",
    "                'image': img,\n",
    "                'text_embeds': np.array(enc.cpu()).astype(np.float32),\n",
    "                'text_mask': np.array(mask.cpu()),\n",
    "                'timestep': np.array(t).astype(np.float32),\n",
    "                'time_next': np.array(t_next).astype(np.float32),\n",
    "                'cond_scale': np.array([1.]).astype(np.float32)\n",
    "        }\n",
    "    )\n",
    "    \n",
    "    img = outputs[0]\n",
    "    \n",
    "    final = (torch.clamp(torch.Tensor(img), -1, 1) + 1) * 0.5\n",
    "    final = T.ToPILImage()(final[0])\n",
    "    final.save(f\"truck-{count}.png\")\n",
    "    final\n",
    "    \n",
    "    count += 1"
   ]
  },
  {
   "cell_type": "code",
   "execution_count": 16,
   "id": "0d9755ba",
   "metadata": {},
   "outputs": [
    {
     "data": {
      "text/plain": [
       "[array([[[[-0.25112632, -0.25348258, -0.2354137 , ...,  0.79342914,\n",
       "           -0.0995601 , -0.34189218],\n",
       "          [-0.23080349, -0.22649664, -0.18049651, ...,  0.19910495,\n",
       "           -0.3363733 , -0.34403867],\n",
       "          [-0.22488993, -0.2106557 , -0.16834438, ..., -0.08798302,\n",
       "           -0.2700371 , -0.37342703],\n",
       "          ...,\n",
       "          [-0.08289751, -0.18851028, -0.4908005 , ...,  0.0960232 ,\n",
       "            0.1453623 ,  0.21706289],\n",
       "          [-0.01551424,  0.01162938, -0.12191533, ...,  0.16049924,\n",
       "            0.25910062,  0.24240431],\n",
       "          [ 0.04592119,  0.06454628,  0.08592793, ...,  0.25333133,\n",
       "            0.2992734 ,  0.26531342]],\n",
       " \n",
       "         [[-0.21803741, -0.22188452, -0.18135284, ...,  0.7870466 ,\n",
       "           -0.02175481, -0.19690703],\n",
       "          [-0.20673378, -0.17501344, -0.14695339, ...,  0.21334507,\n",
       "           -0.22513108, -0.16683003],\n",
       "          [-0.17301561, -0.15762168, -0.12959322, ..., -0.0867881 ,\n",
       "           -0.14354618, -0.17229007],\n",
       "          ...,\n",
       "          [-0.26379105, -0.3883362 , -0.6774566 , ...,  0.12971883,\n",
       "            0.18960354,  0.26452118],\n",
       "          [-0.17607495, -0.21263452, -0.3743409 , ...,  0.20363912,\n",
       "            0.26117358,  0.28702193],\n",
       "          [-0.14870042, -0.1511181 , -0.22980763, ...,  0.3030141 ,\n",
       "            0.32808664,  0.33739227]],\n",
       " \n",
       "         [[-0.2826799 , -0.26956573, -0.24335212, ...,  0.65856946,\n",
       "           -0.31537607, -0.5531205 ],\n",
       "          [-0.22056746, -0.2041215 , -0.15205078, ...,  0.02528735,\n",
       "           -0.5483597 , -0.53620726],\n",
       "          [-0.18617924, -0.14887522, -0.11777528, ..., -0.27274483,\n",
       "           -0.46724203, -0.5541921 ],\n",
       "          ...,\n",
       "          [-0.31359804, -0.416634  , -0.7022947 , ...,  0.11173193,\n",
       "            0.20918716,  0.30140942],\n",
       "          [-0.22670434, -0.2646469 , -0.41654125, ...,  0.19506757,\n",
       "            0.2704544 ,  0.31094044],\n",
       "          [-0.21070501, -0.21317443, -0.270688  , ...,  0.27767304,\n",
       "            0.33603862,  0.3184497 ]]]], dtype=float32),\n",
       " array([[[[-2.56862432e-01, -2.55744934e-01, -2.35542163e-01, ...,\n",
       "            7.91054130e-01, -1.04179986e-01, -3.44890594e-01],\n",
       "          [-2.37290800e-01, -2.21351534e-01, -1.87737674e-01, ...,\n",
       "            2.00821742e-01, -3.36754382e-01, -3.41867983e-01],\n",
       "          [-2.21531063e-01, -2.05096483e-01, -1.76402912e-01, ...,\n",
       "           -8.99835899e-02, -2.68561393e-01, -3.71983975e-01],\n",
       "          ...,\n",
       "          [-8.53211805e-02, -1.93475723e-01, -4.89065826e-01, ...,\n",
       "            8.86717588e-02,  1.53369829e-01,  2.18470559e-01],\n",
       "          [-6.01810345e-04,  5.47181442e-03, -1.19234473e-01, ...,\n",
       "            1.64896682e-01,  2.33537793e-01,  2.45787591e-01],\n",
       "          [ 3.94716859e-02,  7.20651522e-02,  8.22515488e-02, ...,\n",
       "            2.58167505e-01,  2.93039501e-01,  2.70724386e-01]],\n",
       " \n",
       "         [[-2.24733070e-01, -2.17024937e-01, -1.93480015e-01, ...,\n",
       "            7.89380491e-01, -1.91348549e-02, -1.95084080e-01],\n",
       "          [-1.93769500e-01, -1.80286884e-01, -1.45529941e-01, ...,\n",
       "            2.11756662e-01, -2.25896075e-01, -1.67025283e-01],\n",
       "          [-1.71086892e-01, -1.57741651e-01, -1.24151364e-01, ...,\n",
       "           -8.23286101e-02, -1.45089328e-01, -1.73017457e-01],\n",
       "          ...,\n",
       "          [-2.60055900e-01, -3.81445020e-01, -6.69065714e-01, ...,\n",
       "            1.25716910e-01,  1.94808736e-01,  2.68371463e-01],\n",
       "          [-1.83342561e-01, -2.14021280e-01, -3.79685193e-01, ...,\n",
       "            2.02388629e-01,  2.70733476e-01,  2.90457994e-01],\n",
       "          [-1.44801378e-01, -1.56962216e-01, -2.24309683e-01, ...,\n",
       "            2.97262222e-01,  3.30018580e-01,  3.24229389e-01]],\n",
       " \n",
       "         [[-2.76941389e-01, -2.65968382e-01, -2.40115225e-01, ...,\n",
       "            6.52425230e-01, -3.12649250e-01, -5.51609576e-01],\n",
       "          [-2.22783297e-01, -1.99995324e-01, -1.60049379e-01, ...,\n",
       "            2.82377601e-02, -5.45316219e-01, -5.41517675e-01],\n",
       "          [-1.83097363e-01, -1.56057864e-01, -1.21893950e-01, ...,\n",
       "           -2.77676046e-01, -4.65360612e-01, -5.57665348e-01],\n",
       "          ...,\n",
       "          [-3.11405212e-01, -4.23495740e-01, -7.07052231e-01, ...,\n",
       "            1.24044098e-01,  2.06347466e-01,  2.89985806e-01],\n",
       "          [-2.33753279e-01, -2.58175224e-01, -4.13547188e-01, ...,\n",
       "            1.99351296e-01,  2.77157426e-01,  3.08321059e-01],\n",
       "          [-2.06915662e-01, -2.16739431e-01, -2.72071689e-01, ...,\n",
       "            2.86769629e-01,  3.30341429e-01,  3.27309310e-01]]]],\n",
       "       dtype=float32)]"
      ]
     },
     "execution_count": 16,
     "metadata": {},
     "output_type": "execute_result"
    }
   ],
   "source": [
    "outputs"
   ]
  },
  {
   "cell_type": "code",
   "execution_count": 12,
   "id": "0c2955b6",
   "metadata": {},
   "outputs": [
    {
     "data": {
      "text/plain": [
       "array([[[[-0.25112632, -0.25348258, -0.2354137 , ...,  0.79342914,\n",
       "          -0.0995601 , -0.34189218],\n",
       "         [-0.23080349, -0.22649664, -0.18049651, ...,  0.19910495,\n",
       "          -0.3363733 , -0.34403867],\n",
       "         [-0.22488993, -0.2106557 , -0.16834438, ..., -0.08798302,\n",
       "          -0.2700371 , -0.37342703],\n",
       "         ...,\n",
       "         [-0.08289751, -0.18851028, -0.4908005 , ...,  0.0960232 ,\n",
       "           0.1453623 ,  0.21706289],\n",
       "         [-0.01551424,  0.01162938, -0.12191533, ...,  0.16049924,\n",
       "           0.25910062,  0.24240431],\n",
       "         [ 0.04592119,  0.06454628,  0.08592793, ...,  0.25333133,\n",
       "           0.2992734 ,  0.26531342]],\n",
       "\n",
       "        [[-0.21803741, -0.22188452, -0.18135284, ...,  0.7870466 ,\n",
       "          -0.02175481, -0.19690703],\n",
       "         [-0.20673378, -0.17501344, -0.14695339, ...,  0.21334507,\n",
       "          -0.22513108, -0.16683003],\n",
       "         [-0.17301561, -0.15762168, -0.12959322, ..., -0.0867881 ,\n",
       "          -0.14354618, -0.17229007],\n",
       "         ...,\n",
       "         [-0.26379105, -0.3883362 , -0.6774566 , ...,  0.12971883,\n",
       "           0.18960354,  0.26452118],\n",
       "         [-0.17607495, -0.21263452, -0.3743409 , ...,  0.20363912,\n",
       "           0.26117358,  0.28702193],\n",
       "         [-0.14870042, -0.1511181 , -0.22980763, ...,  0.3030141 ,\n",
       "           0.32808664,  0.33739227]],\n",
       "\n",
       "        [[-0.2826799 , -0.26956573, -0.24335212, ...,  0.65856946,\n",
       "          -0.31537607, -0.5531205 ],\n",
       "         [-0.22056746, -0.2041215 , -0.15205078, ...,  0.02528735,\n",
       "          -0.5483597 , -0.53620726],\n",
       "         [-0.18617924, -0.14887522, -0.11777528, ..., -0.27274483,\n",
       "          -0.46724203, -0.5541921 ],\n",
       "         ...,\n",
       "         [-0.31359804, -0.416634  , -0.7022947 , ...,  0.11173193,\n",
       "           0.20918716,  0.30140942],\n",
       "         [-0.22670434, -0.2646469 , -0.41654125, ...,  0.19506757,\n",
       "           0.2704544 ,  0.31094044],\n",
       "         [-0.21070501, -0.21317443, -0.270688  , ...,  0.27767304,\n",
       "           0.33603862,  0.3184497 ]]]], dtype=float32)"
      ]
     },
     "execution_count": 12,
     "metadata": {},
     "output_type": "execute_result"
    }
   ],
   "source": [
    "img"
   ]
  },
  {
   "cell_type": "code",
   "execution_count": 14,
   "id": "cb3eba27",
   "metadata": {},
   "outputs": [],
   "source": [
    "data = {\n",
    "    'img': np.array(img).tolist(),\n",
    "    \n",
    "}\n",
    "\n",
    "with open('toymodel/public/truck.json', 'w') as f:\n",
    "    json.dump(data, f)"
   ]
  },
  {
   "cell_type": "code",
   "execution_count": 20,
   "id": "7623b620",
   "metadata": {},
   "outputs": [
    {
     "data": {
      "image/png": "[encoded data removed]",
      "text/plain": [
       "<PIL.Image.Image image mode=RGB size=32x32>"
      ]
     },
     "execution_count": 20,
     "metadata": {},
     "output_type": "execute_result"
    }
   ],
   "source": [
    "final = (torch.clamp(torch.Tensor(img), -1, 1) + 1) * 0.5\n",
    "final = T.ToPILImage()(final[0])\n",
    "final"
   ]
  },
  {
   "cell_type": "code",
   "execution_count": 18,
   "id": "bd9a8503",
   "metadata": {},
   "outputs": [
    {
     "data": {
      "text/plain": [
       "(32, 32, 3, 1)"
      ]
     },
     "execution_count": 18,
     "metadata": {},
     "output_type": "execute_result"
    }
   ],
   "source": [
    "np.transpose(np.array(img)).shape"
   ]
  },
  {
   "cell_type": "code",
   "execution_count": 19,
   "id": "08dfcd0e",
   "metadata": {},
   "outputs": [],
   "source": [
    "data = {\n",
    "    'img': np.transpose(np.array(img)).tolist(),\n",
    "    \n",
    "}\n",
    "\n",
    "with open('toymodel/public/truck2.json', 'w') as f:\n",
    "    json.dump(data, f)"
   ]
  },
  {
   "cell_type": "code",
   "execution_count": 132,
   "id": "b0243992",
   "metadata": {},
   "outputs": [
    {
     "data": {
      "image/png": "[encoded data removed]",
      "text/plain": [
       "<PIL.Image.Image image mode=RGB size=32x32>"
      ]
     },
     "execution_count": 132,
     "metadata": {},
     "output_type": "execute_result"
    }
   ],
   "source": [
    "final = (torch.clamp(torch.Tensor(img), -1, 1) + 1) * 0.5\n",
    "final = T.ToPILImage()(final[0])\n",
    "final.save(\"truck-12.png\")\n",
    "final"
   ]
  },
  {
   "cell_type": "code",
   "execution_count": 119,
   "id": "54ae8013",
   "metadata": {},
   "outputs": [
    {
     "data": {
      "text/plain": [
       "tensor([[[[ 0.0962, -0.1083, -0.2807,  ...,  0.8795,  0.8392,  0.8311],\n",
       "          [-0.0489, -0.0647, -0.2382,  ...,  0.8800,  0.8629,  0.8600],\n",
       "          [-0.0984, -0.1901, -0.1840,  ...,  0.7647,  0.8420,  0.8462],\n",
       "          ...,\n",
       "          [ 0.6028,  0.5976,  0.6095,  ...,  0.4497,  0.4501,  0.4585],\n",
       "          [ 0.5957,  0.6137,  0.6304,  ...,  0.4384,  0.4447,  0.4587],\n",
       "          [ 0.5515,  0.5725,  0.6071,  ...,  0.4511,  0.4511,  0.4342]],\n",
       "\n",
       "         [[ 0.0854, -0.0882, -0.2644,  ...,  0.9699,  0.9410,  0.9691],\n",
       "          [-0.0897, -0.0780, -0.2078,  ...,  0.9472,  0.9606,  0.9718],\n",
       "          [-0.1124, -0.1750, -0.1582,  ...,  0.8304,  0.9076,  0.9519],\n",
       "          ...,\n",
       "          [ 0.5979,  0.5641,  0.5806,  ...,  0.3848,  0.3991,  0.3927],\n",
       "          [ 0.5507,  0.5540,  0.5713,  ...,  0.3767,  0.3833,  0.3841],\n",
       "          [ 0.5179,  0.5202,  0.5342,  ...,  0.3710,  0.3847,  0.3671]],\n",
       "\n",
       "         [[-0.2194, -0.4291, -0.5708,  ...,  0.9912,  0.9952,  1.0086],\n",
       "          [-0.3923, -0.3851, -0.5243,  ...,  0.9820,  0.9895,  0.9947],\n",
       "          [-0.3523, -0.4453, -0.4512,  ...,  0.7890,  0.9156,  0.9843],\n",
       "          ...,\n",
       "          [ 0.4994,  0.4793,  0.4924,  ...,  0.0922,  0.0987,  0.0855],\n",
       "          [ 0.4565,  0.4603,  0.4270,  ...,  0.0923,  0.0973,  0.0732],\n",
       "          [ 0.4422,  0.4106,  0.4067,  ...,  0.0903,  0.0775,  0.0808]]]])"
      ]
     },
     "execution_count": 119,
     "metadata": {},
     "output_type": "execute_result"
    }
   ],
   "source": [
    "final"
   ]
  },
  {
   "cell_type": "code",
   "execution_count": 120,
   "id": "dfc7d3b0",
   "metadata": {},
   "outputs": [
    {
     "data": {
      "text/plain": [
       "(1, 3, 32, 32)"
      ]
     },
     "execution_count": 120,
     "metadata": {},
     "output_type": "execute_result"
    }
   ],
   "source": [
    "img.shape"
   ]
  },
  {
   "cell_type": "code",
   "execution_count": 68,
   "id": "f1560c81",
   "metadata": {},
   "outputs": [
    {
     "ename": "InvalidArgument",
     "evalue": "[ONNXRuntimeError] : 2 : INVALID_ARGUMENT : Invalid rank for input: image Got: 1 Expected: 4 Please fix either the inputs or the model.",
     "output_type": "error",
     "traceback": [
      "\u001b[1;31m---------------------------------------------------------------------------\u001b[0m",
      "\u001b[1;31mInvalidArgument\u001b[0m                           Traceback (most recent call last)",
      "Cell \u001b[1;32mIn [68], line 1\u001b[0m\n\u001b[1;32m----> 1\u001b[0m outputs \u001b[38;5;241m=\u001b[39m \u001b[43mort_session\u001b[49m\u001b[38;5;241;43m.\u001b[39;49m\u001b[43mrun\u001b[49m\u001b[43m(\u001b[49m\n\u001b[0;32m      2\u001b[0m \u001b[43m    \u001b[49m\u001b[38;5;28;43;01mNone\u001b[39;49;00m\u001b[43m,\u001b[49m\n\u001b[0;32m      3\u001b[0m \u001b[43m    \u001b[49m\u001b[43m{\u001b[49m\n\u001b[0;32m      4\u001b[0m \u001b[43m            \u001b[49m\u001b[38;5;124;43m'\u001b[39;49m\u001b[38;5;124;43mimage\u001b[39;49m\u001b[38;5;124;43m'\u001b[39;49m\u001b[43m:\u001b[49m\u001b[43m \u001b[49m\u001b[43mnp\u001b[49m\u001b[38;5;241;43m.\u001b[39;49m\u001b[43marray\u001b[49m\u001b[43m(\u001b[49m\u001b[43m[\u001b[49m\u001b[38;5;241;43m1.\u001b[39;49m\u001b[43m]\u001b[49m\u001b[43m)\u001b[49m\u001b[38;5;241;43m.\u001b[39;49m\u001b[43mastype\u001b[49m\u001b[43m(\u001b[49m\u001b[43mnp\u001b[49m\u001b[38;5;241;43m.\u001b[39;49m\u001b[43mfloat32\u001b[49m\u001b[43m)\u001b[49m\u001b[43m,\u001b[49m\n\u001b[0;32m      5\u001b[0m \u001b[43m            \u001b[49m\u001b[38;5;124;43m'\u001b[39;49m\u001b[38;5;124;43mtext_embeds\u001b[39;49m\u001b[38;5;124;43m'\u001b[39;49m\u001b[43m:\u001b[49m\u001b[43m \u001b[49m\u001b[43mnp\u001b[49m\u001b[38;5;241;43m.\u001b[39;49m\u001b[43marray\u001b[49m\u001b[43m(\u001b[49m\u001b[43m[\u001b[49m\u001b[38;5;241;43m1.\u001b[39;49m\u001b[43m]\u001b[49m\u001b[43m)\u001b[49m\u001b[38;5;241;43m.\u001b[39;49m\u001b[43mastype\u001b[49m\u001b[43m(\u001b[49m\u001b[43mnp\u001b[49m\u001b[38;5;241;43m.\u001b[39;49m\u001b[43mfloat32\u001b[49m\u001b[43m)\u001b[49m\u001b[43m,\u001b[49m\n\u001b[0;32m      6\u001b[0m \u001b[43m            \u001b[49m\u001b[38;5;124;43m'\u001b[39;49m\u001b[38;5;124;43mtext_mask\u001b[39;49m\u001b[38;5;124;43m'\u001b[39;49m\u001b[43m:\u001b[49m\u001b[43mnp\u001b[49m\u001b[38;5;241;43m.\u001b[39;49m\u001b[43marray\u001b[49m\u001b[43m(\u001b[49m\u001b[43m[\u001b[49m\u001b[38;5;241;43m1.\u001b[39;49m\u001b[43m]\u001b[49m\u001b[43m)\u001b[49m\u001b[38;5;241;43m.\u001b[39;49m\u001b[43mastype\u001b[49m\u001b[43m(\u001b[49m\u001b[43mnp\u001b[49m\u001b[38;5;241;43m.\u001b[39;49m\u001b[43mfloat32\u001b[49m\u001b[43m)\u001b[49m\u001b[43m,\u001b[49m\n\u001b[0;32m      7\u001b[0m \u001b[43m            \u001b[49m\u001b[38;5;124;43m'\u001b[39;49m\u001b[38;5;124;43mtimestep\u001b[39;49m\u001b[38;5;124;43m'\u001b[39;49m\u001b[43m:\u001b[49m\u001b[43m \u001b[49m\u001b[43mnp\u001b[49m\u001b[38;5;241;43m.\u001b[39;49m\u001b[43marray\u001b[49m\u001b[43m(\u001b[49m\u001b[43m[\u001b[49m\u001b[38;5;241;43m1.\u001b[39;49m\u001b[43m]\u001b[49m\u001b[43m)\u001b[49m\u001b[38;5;241;43m.\u001b[39;49m\u001b[43mastype\u001b[49m\u001b[43m(\u001b[49m\u001b[43mnp\u001b[49m\u001b[38;5;241;43m.\u001b[39;49m\u001b[43mfloat32\u001b[49m\u001b[43m)\u001b[49m\u001b[43m,\u001b[49m\n\u001b[0;32m      8\u001b[0m \u001b[43m            \u001b[49m\u001b[38;5;124;43m'\u001b[39;49m\u001b[38;5;124;43mtime_next\u001b[39;49m\u001b[38;5;124;43m'\u001b[39;49m\u001b[43m:\u001b[49m\u001b[43m \u001b[49m\u001b[43mnp\u001b[49m\u001b[38;5;241;43m.\u001b[39;49m\u001b[43marray\u001b[49m\u001b[43m(\u001b[49m\u001b[43m[\u001b[49m\u001b[38;5;241;43m1.\u001b[39;49m\u001b[43m]\u001b[49m\u001b[43m)\u001b[49m\u001b[38;5;241;43m.\u001b[39;49m\u001b[43mastype\u001b[49m\u001b[43m(\u001b[49m\u001b[43mnp\u001b[49m\u001b[38;5;241;43m.\u001b[39;49m\u001b[43mfloat32\u001b[49m\u001b[43m)\u001b[49m\u001b[43m,\u001b[49m\n\u001b[0;32m      9\u001b[0m \u001b[43m            \u001b[49m\u001b[38;5;124;43m'\u001b[39;49m\u001b[38;5;124;43mcond_scale\u001b[39;49m\u001b[38;5;124;43m'\u001b[39;49m\u001b[43m:\u001b[49m\u001b[43m \u001b[49m\u001b[43mnp\u001b[49m\u001b[38;5;241;43m.\u001b[39;49m\u001b[43marray\u001b[49m\u001b[43m(\u001b[49m\u001b[43m[\u001b[49m\u001b[38;5;241;43m1.\u001b[39;49m\u001b[43m]\u001b[49m\u001b[43m)\u001b[49m\u001b[38;5;241;43m.\u001b[39;49m\u001b[43mastype\u001b[49m\u001b[43m(\u001b[49m\u001b[43mnp\u001b[49m\u001b[38;5;241;43m.\u001b[39;49m\u001b[43mfloat32\u001b[49m\u001b[43m)\u001b[49m\n\u001b[0;32m     10\u001b[0m \u001b[43m    \u001b[49m\u001b[43m}\u001b[49m\u001b[43m)\u001b[49m\n",
      "File \u001b[1;32mC:\\Python310\\lib\\site-packages\\onnxruntime\\capi\\onnxruntime_inference_collection.py:200\u001b[0m, in \u001b[0;36mSession.run\u001b[1;34m(self, output_names, input_feed, run_options)\u001b[0m\n\u001b[0;32m    198\u001b[0m     output_names \u001b[38;5;241m=\u001b[39m [output\u001b[38;5;241m.\u001b[39mname \u001b[38;5;28;01mfor\u001b[39;00m output \u001b[38;5;129;01min\u001b[39;00m \u001b[38;5;28mself\u001b[39m\u001b[38;5;241m.\u001b[39m_outputs_meta]\n\u001b[0;32m    199\u001b[0m \u001b[38;5;28;01mtry\u001b[39;00m:\n\u001b[1;32m--> 200\u001b[0m     \u001b[38;5;28;01mreturn\u001b[39;00m \u001b[38;5;28;43mself\u001b[39;49m\u001b[38;5;241;43m.\u001b[39;49m\u001b[43m_sess\u001b[49m\u001b[38;5;241;43m.\u001b[39;49m\u001b[43mrun\u001b[49m\u001b[43m(\u001b[49m\u001b[43moutput_names\u001b[49m\u001b[43m,\u001b[49m\u001b[43m \u001b[49m\u001b[43minput_feed\u001b[49m\u001b[43m,\u001b[49m\u001b[43m \u001b[49m\u001b[43mrun_options\u001b[49m\u001b[43m)\u001b[49m\n\u001b[0;32m    201\u001b[0m \u001b[38;5;28;01mexcept\u001b[39;00m C\u001b[38;5;241m.\u001b[39mEPFail \u001b[38;5;28;01mas\u001b[39;00m err:\n\u001b[0;32m    202\u001b[0m     \u001b[38;5;28;01mif\u001b[39;00m \u001b[38;5;28mself\u001b[39m\u001b[38;5;241m.\u001b[39m_enable_fallback:\n",
      "\u001b[1;31mInvalidArgument\u001b[0m: [ONNXRuntimeError] : 2 : INVALID_ARGUMENT : Invalid rank for input: image Got: 1 Expected: 4 Please fix either the inputs or the model."
     ]
    }
   ],
   "source": [
    "outputs = ort_session.run(\n",
    "    None,\n",
    "    {\n",
    "            'image': outputs[0],\n",
    "            'text_embeds': np.array([1.]).astype(np.float32),\n",
    "            'text_mask':np.array([1.]).astype(np.float32),\n",
    "            'timestep': np.array([1.]).astype(np.float32),\n",
    "            'time_next': np.array([1.]).astype(np.float32),\n",
    "            'cond_scale': np.array([1.]).astype(np.float32)\n",
    "    })"
   ]
  },
  {
   "cell_type": "code",
   "execution_count": 102,
   "id": "d6e07c73",
   "metadata": {},
   "outputs": [
    {
     "data": {
      "text/plain": [
       "(1, 3, 32, 32)"
      ]
     },
     "execution_count": 102,
     "metadata": {},
     "output_type": "execute_result"
    }
   ],
   "source": [
    "outputs[0].shape"
   ]
  },
  {
   "cell_type": "code",
   "execution_count": 30,
   "id": "b331f4a7",
   "metadata": {},
   "outputs": [
    {
     "data": {
      "text/plain": [
       "tensor([ 0.4268, -0.7754,  1.7493, -0.3136, -1.4704,  0.1757,  0.6048,  0.3903,\n",
       "         0.2723,  0.3134])"
      ]
     },
     "execution_count": 30,
     "metadata": {},
     "output_type": "execute_result"
    }
   ],
   "source": [
    "torch.randn(10)"
   ]
  },
  {
   "cell_type": "code",
   "execution_count": 4,
   "id": "ab7474ff",
   "metadata": {},
   "outputs": [
    {
     "data": {
      "text/plain": [
       "tensor([0.0000, 0.0417, 0.0833, 0.1250, 0.1667, 0.2083, 0.2500, 0.2917, 0.3333,\n",
       "        0.3750, 0.4167, 0.4583, 0.5000, 0.5417, 0.5833, 0.6250, 0.6667, 0.7083,\n",
       "        0.7500, 0.7917, 0.8333, 0.8750, 0.9167, 0.9583, 1.0000])"
      ]
     },
     "execution_count": 4,
     "metadata": {},
     "output_type": "execute_result"
    }
   ],
   "source": [
    "torch.linspace(0, 1, 25)"
   ]
  },
  {
   "cell_type": "code",
   "execution_count": 11,
   "id": "aff8f1f6",
   "metadata": {},
   "outputs": [],
   "source": [
    "def get_sampling_timesteps(num_timesteps, batch, *, device):\n",
    "    times = torch.linspace(1., 0., num_timesteps + 1, device = device)\n",
    "    times = repeat(times, 't -> b t', b = batch)\n",
    "    times = torch.stack((times[:, :-1], times[:, 1:]), dim = 0)\n",
    "    times = times.unbind(dim = -1)\n",
    "    return times"
   ]
  },
  {
   "cell_type": "code",
   "execution_count": 27,
   "id": "b5b8f33a",
   "metadata": {},
   "outputs": [],
   "source": [
    "out = get_sampling_timesteps(250, 1, device=torch.device(\"cpu\"))"
   ]
  },
  {
   "cell_type": "code",
   "execution_count": 28,
   "id": "918eedb2",
   "metadata": {},
   "outputs": [
    {
     "data": {
      "text/plain": [
       "250"
      ]
     },
     "execution_count": 28,
     "metadata": {},
     "output_type": "execute_result"
    }
   ],
   "source": [
    "len(out)"
   ]
  },
  {
   "cell_type": "code",
   "execution_count": 29,
   "id": "15a04971",
   "metadata": {},
   "outputs": [
    {
     "name": "stdout",
     "output_type": "stream",
     "text": [
      "tensor([1.]) tensor([0.9960])\n",
      "tensor([0.9960]) tensor([0.9920])\n",
      "tensor([0.9920]) tensor([0.9880])\n",
      "tensor([0.9880]) tensor([0.9840])\n",
      "tensor([0.9840]) tensor([0.9800])\n",
      "tensor([0.9800]) tensor([0.9760])\n",
      "tensor([0.9760]) tensor([0.9720])\n",
      "tensor([0.9720]) tensor([0.9680])\n",
      "tensor([0.9680]) tensor([0.9640])\n",
      "tensor([0.9640]) tensor([0.9600])\n",
      "tensor([0.9600]) tensor([0.9560])\n",
      "tensor([0.9560]) tensor([0.9520])\n",
      "tensor([0.9520]) tensor([0.9480])\n",
      "tensor([0.9480]) tensor([0.9440])\n",
      "tensor([0.9440]) tensor([0.9400])\n",
      "tensor([0.9400]) tensor([0.9360])\n",
      "tensor([0.9360]) tensor([0.9320])\n",
      "tensor([0.9320]) tensor([0.9280])\n",
      "tensor([0.9280]) tensor([0.9240])\n",
      "tensor([0.9240]) tensor([0.9200])\n",
      "tensor([0.9200]) tensor([0.9160])\n",
      "tensor([0.9160]) tensor([0.9120])\n",
      "tensor([0.9120]) tensor([0.9080])\n",
      "tensor([0.9080]) tensor([0.9040])\n",
      "tensor([0.9040]) tensor([0.9000])\n",
      "tensor([0.9000]) tensor([0.8960])\n",
      "tensor([0.8960]) tensor([0.8920])\n",
      "tensor([0.8920]) tensor([0.8880])\n",
      "tensor([0.8880]) tensor([0.8840])\n",
      "tensor([0.8840]) tensor([0.8800])\n",
      "tensor([0.8800]) tensor([0.8760])\n",
      "tensor([0.8760]) tensor([0.8720])\n",
      "tensor([0.8720]) tensor([0.8680])\n",
      "tensor([0.8680]) tensor([0.8640])\n",
      "tensor([0.8640]) tensor([0.8600])\n",
      "tensor([0.8600]) tensor([0.8560])\n",
      "tensor([0.8560]) tensor([0.8520])\n",
      "tensor([0.8520]) tensor([0.8480])\n",
      "tensor([0.8480]) tensor([0.8440])\n",
      "tensor([0.8440]) tensor([0.8400])\n",
      "tensor([0.8400]) tensor([0.8360])\n",
      "tensor([0.8360]) tensor([0.8320])\n",
      "tensor([0.8320]) tensor([0.8280])\n",
      "tensor([0.8280]) tensor([0.8240])\n",
      "tensor([0.8240]) tensor([0.8200])\n",
      "tensor([0.8200]) tensor([0.8160])\n",
      "tensor([0.8160]) tensor([0.8120])\n",
      "tensor([0.8120]) tensor([0.8080])\n",
      "tensor([0.8080]) tensor([0.8040])\n",
      "tensor([0.8040]) tensor([0.8000])\n",
      "tensor([0.8000]) tensor([0.7960])\n",
      "tensor([0.7960]) tensor([0.7920])\n",
      "tensor([0.7920]) tensor([0.7880])\n",
      "tensor([0.7880]) tensor([0.7840])\n",
      "tensor([0.7840]) tensor([0.7800])\n",
      "tensor([0.7800]) tensor([0.7760])\n",
      "tensor([0.7760]) tensor([0.7720])\n",
      "tensor([0.7720]) tensor([0.7680])\n",
      "tensor([0.7680]) tensor([0.7640])\n",
      "tensor([0.7640]) tensor([0.7600])\n",
      "tensor([0.7600]) tensor([0.7560])\n",
      "tensor([0.7560]) tensor([0.7520])\n",
      "tensor([0.7520]) tensor([0.7480])\n",
      "tensor([0.7480]) tensor([0.7440])\n",
      "tensor([0.7440]) tensor([0.7400])\n",
      "tensor([0.7400]) tensor([0.7360])\n",
      "tensor([0.7360]) tensor([0.7320])\n",
      "tensor([0.7320]) tensor([0.7280])\n",
      "tensor([0.7280]) tensor([0.7240])\n",
      "tensor([0.7240]) tensor([0.7200])\n",
      "tensor([0.7200]) tensor([0.7160])\n",
      "tensor([0.7160]) tensor([0.7120])\n",
      "tensor([0.7120]) tensor([0.7080])\n",
      "tensor([0.7080]) tensor([0.7040])\n",
      "tensor([0.7040]) tensor([0.7000])\n",
      "tensor([0.7000]) tensor([0.6960])\n",
      "tensor([0.6960]) tensor([0.6920])\n",
      "tensor([0.6920]) tensor([0.6880])\n",
      "tensor([0.6880]) tensor([0.6840])\n",
      "tensor([0.6840]) tensor([0.6800])\n",
      "tensor([0.6800]) tensor([0.6760])\n",
      "tensor([0.6760]) tensor([0.6720])\n",
      "tensor([0.6720]) tensor([0.6680])\n",
      "tensor([0.6680]) tensor([0.6640])\n",
      "tensor([0.6640]) tensor([0.6600])\n",
      "tensor([0.6600]) tensor([0.6560])\n",
      "tensor([0.6560]) tensor([0.6520])\n",
      "tensor([0.6520]) tensor([0.6480])\n",
      "tensor([0.6480]) tensor([0.6440])\n",
      "tensor([0.6440]) tensor([0.6400])\n",
      "tensor([0.6400]) tensor([0.6360])\n",
      "tensor([0.6360]) tensor([0.6320])\n",
      "tensor([0.6320]) tensor([0.6280])\n",
      "tensor([0.6280]) tensor([0.6240])\n",
      "tensor([0.6240]) tensor([0.6200])\n",
      "tensor([0.6200]) tensor([0.6160])\n",
      "tensor([0.6160]) tensor([0.6120])\n",
      "tensor([0.6120]) tensor([0.6080])\n",
      "tensor([0.6080]) tensor([0.6040])\n",
      "tensor([0.6040]) tensor([0.6000])\n",
      "tensor([0.6000]) tensor([0.5960])\n",
      "tensor([0.5960]) tensor([0.5920])\n",
      "tensor([0.5920]) tensor([0.5880])\n",
      "tensor([0.5880]) tensor([0.5840])\n",
      "tensor([0.5840]) tensor([0.5800])\n",
      "tensor([0.5800]) tensor([0.5760])\n",
      "tensor([0.5760]) tensor([0.5720])\n",
      "tensor([0.5720]) tensor([0.5680])\n",
      "tensor([0.5680]) tensor([0.5640])\n",
      "tensor([0.5640]) tensor([0.5600])\n",
      "tensor([0.5600]) tensor([0.5560])\n",
      "tensor([0.5560]) tensor([0.5520])\n",
      "tensor([0.5520]) tensor([0.5480])\n",
      "tensor([0.5480]) tensor([0.5440])\n",
      "tensor([0.5440]) tensor([0.5400])\n",
      "tensor([0.5400]) tensor([0.5360])\n",
      "tensor([0.5360]) tensor([0.5320])\n",
      "tensor([0.5320]) tensor([0.5280])\n",
      "tensor([0.5280]) tensor([0.5240])\n",
      "tensor([0.5240]) tensor([0.5200])\n",
      "tensor([0.5200]) tensor([0.5160])\n",
      "tensor([0.5160]) tensor([0.5120])\n",
      "tensor([0.5120]) tensor([0.5080])\n",
      "tensor([0.5080]) tensor([0.5040])\n",
      "tensor([0.5040]) tensor([0.5000])\n",
      "tensor([0.5000]) tensor([0.4960])\n",
      "tensor([0.4960]) tensor([0.4920])\n",
      "tensor([0.4920]) tensor([0.4880])\n",
      "tensor([0.4880]) tensor([0.4840])\n",
      "tensor([0.4840]) tensor([0.4800])\n",
      "tensor([0.4800]) tensor([0.4760])\n",
      "tensor([0.4760]) tensor([0.4720])\n",
      "tensor([0.4720]) tensor([0.4680])\n",
      "tensor([0.4680]) tensor([0.4640])\n",
      "tensor([0.4640]) tensor([0.4600])\n",
      "tensor([0.4600]) tensor([0.4560])\n",
      "tensor([0.4560]) tensor([0.4520])\n",
      "tensor([0.4520]) tensor([0.4480])\n",
      "tensor([0.4480]) tensor([0.4440])\n",
      "tensor([0.4440]) tensor([0.4400])\n",
      "tensor([0.4400]) tensor([0.4360])\n",
      "tensor([0.4360]) tensor([0.4320])\n",
      "tensor([0.4320]) tensor([0.4280])\n",
      "tensor([0.4280]) tensor([0.4240])\n",
      "tensor([0.4240]) tensor([0.4200])\n",
      "tensor([0.4200]) tensor([0.4160])\n",
      "tensor([0.4160]) tensor([0.4120])\n",
      "tensor([0.4120]) tensor([0.4080])\n",
      "tensor([0.4080]) tensor([0.4040])\n",
      "tensor([0.4040]) tensor([0.4000])\n",
      "tensor([0.4000]) tensor([0.3960])\n",
      "tensor([0.3960]) tensor([0.3920])\n",
      "tensor([0.3920]) tensor([0.3880])\n",
      "tensor([0.3880]) tensor([0.3840])\n",
      "tensor([0.3840]) tensor([0.3800])\n",
      "tensor([0.3800]) tensor([0.3760])\n",
      "tensor([0.3760]) tensor([0.3720])\n",
      "tensor([0.3720]) tensor([0.3680])\n",
      "tensor([0.3680]) tensor([0.3640])\n",
      "tensor([0.3640]) tensor([0.3600])\n",
      "tensor([0.3600]) tensor([0.3560])\n",
      "tensor([0.3560]) tensor([0.3520])\n",
      "tensor([0.3520]) tensor([0.3480])\n",
      "tensor([0.3480]) tensor([0.3440])\n",
      "tensor([0.3440]) tensor([0.3400])\n",
      "tensor([0.3400]) tensor([0.3360])\n",
      "tensor([0.3360]) tensor([0.3320])\n",
      "tensor([0.3320]) tensor([0.3280])\n",
      "tensor([0.3280]) tensor([0.3240])\n",
      "tensor([0.3240]) tensor([0.3200])\n",
      "tensor([0.3200]) tensor([0.3160])\n",
      "tensor([0.3160]) tensor([0.3120])\n",
      "tensor([0.3120]) tensor([0.3080])\n",
      "tensor([0.3080]) tensor([0.3040])\n",
      "tensor([0.3040]) tensor([0.3000])\n",
      "tensor([0.3000]) tensor([0.2960])\n",
      "tensor([0.2960]) tensor([0.2920])\n",
      "tensor([0.2920]) tensor([0.2880])\n",
      "tensor([0.2880]) tensor([0.2840])\n",
      "tensor([0.2840]) tensor([0.2800])\n",
      "tensor([0.2800]) tensor([0.2760])\n",
      "tensor([0.2760]) tensor([0.2720])\n",
      "tensor([0.2720]) tensor([0.2680])\n",
      "tensor([0.2680]) tensor([0.2640])\n",
      "tensor([0.2640]) tensor([0.2600])\n",
      "tensor([0.2600]) tensor([0.2560])\n",
      "tensor([0.2560]) tensor([0.2520])\n",
      "tensor([0.2520]) tensor([0.2480])\n",
      "tensor([0.2480]) tensor([0.2440])\n",
      "tensor([0.2440]) tensor([0.2400])\n",
      "tensor([0.2400]) tensor([0.2360])\n",
      "tensor([0.2360]) tensor([0.2320])\n",
      "tensor([0.2320]) tensor([0.2280])\n",
      "tensor([0.2280]) tensor([0.2240])\n",
      "tensor([0.2240]) tensor([0.2200])\n",
      "tensor([0.2200]) tensor([0.2160])\n",
      "tensor([0.2160]) tensor([0.2120])\n",
      "tensor([0.2120]) tensor([0.2080])\n",
      "tensor([0.2080]) tensor([0.2040])\n",
      "tensor([0.2040]) tensor([0.2000])\n",
      "tensor([0.2000]) tensor([0.1960])\n",
      "tensor([0.1960]) tensor([0.1920])\n",
      "tensor([0.1920]) tensor([0.1880])\n",
      "tensor([0.1880]) tensor([0.1840])\n",
      "tensor([0.1840]) tensor([0.1800])\n",
      "tensor([0.1800]) tensor([0.1760])\n",
      "tensor([0.1760]) tensor([0.1720])\n",
      "tensor([0.1720]) tensor([0.1680])\n",
      "tensor([0.1680]) tensor([0.1640])\n",
      "tensor([0.1640]) tensor([0.1600])\n",
      "tensor([0.1600]) tensor([0.1560])\n",
      "tensor([0.1560]) tensor([0.1520])\n",
      "tensor([0.1520]) tensor([0.1480])\n",
      "tensor([0.1480]) tensor([0.1440])\n",
      "tensor([0.1440]) tensor([0.1400])\n",
      "tensor([0.1400]) tensor([0.1360])\n",
      "tensor([0.1360]) tensor([0.1320])\n",
      "tensor([0.1320]) tensor([0.1280])\n",
      "tensor([0.1280]) tensor([0.1240])\n",
      "tensor([0.1240]) tensor([0.1200])\n",
      "tensor([0.1200]) tensor([0.1160])\n",
      "tensor([0.1160]) tensor([0.1120])\n",
      "tensor([0.1120]) tensor([0.1080])\n",
      "tensor([0.1080]) tensor([0.1040])\n",
      "tensor([0.1040]) tensor([0.1000])\n",
      "tensor([0.1000]) tensor([0.0960])\n",
      "tensor([0.0960]) tensor([0.0920])\n",
      "tensor([0.0920]) tensor([0.0880])\n",
      "tensor([0.0880]) tensor([0.0840])\n",
      "tensor([0.0840]) tensor([0.0800])\n",
      "tensor([0.0800]) tensor([0.0760])\n",
      "tensor([0.0760]) tensor([0.0720])\n",
      "tensor([0.0720]) tensor([0.0680])\n",
      "tensor([0.0680]) tensor([0.0640])\n",
      "tensor([0.0640]) tensor([0.0600])\n",
      "tensor([0.0600]) tensor([0.0560])\n",
      "tensor([0.0560]) tensor([0.0520])\n",
      "tensor([0.0520]) tensor([0.0480])\n",
      "tensor([0.0480]) tensor([0.0440])\n",
      "tensor([0.0440]) tensor([0.0400])\n",
      "tensor([0.0400]) tensor([0.0360])\n",
      "tensor([0.0360]) tensor([0.0320])\n",
      "tensor([0.0320]) tensor([0.0280])\n",
      "tensor([0.0280]) tensor([0.0240])\n",
      "tensor([0.0240]) tensor([0.0200])\n",
      "tensor([0.0200]) tensor([0.0160])\n",
      "tensor([0.0160]) tensor([0.0120])\n",
      "tensor([0.0120]) tensor([0.0080])\n",
      "tensor([0.0080]) tensor([0.0040])\n",
      "tensor([0.0040]) tensor([0.])\n"
     ]
    }
   ],
   "source": [
    "for time, nxt in out:\n",
    "    print(time, nxt)"
   ]
  },
  {
   "cell_type": "code",
   "execution_count": null,
   "id": "2c3277f7",
   "metadata": {},
   "outputs": [],
   "source": []
  }
 ],
 "metadata": {
  "kernelspec": {
   "display_name": "Python 3 (ipykernel)",
   "language": "python",
   "name": "python3"
  },
  "language_info": {
   "codemirror_mode": {
    "name": "ipython",
    "version": 3
   },
   "file_extension": ".py",
   "mimetype": "text/x-python",
   "name": "python",
   "nbconvert_exporter": "python",
   "pygments_lexer": "ipython3",
   "version": "3.10.8"
  }
 },
 "nbformat": 4,
 "nbformat_minor": 5
}
