{
 "cells": [
  {
   "cell_type": "code",
   "execution_count": 1,
   "id": "17536cf7",
   "metadata": {},
   "outputs": [],
   "source": [
    "import onnx\n",
    "from onnx import numpy_helper\n",
    "import torch\n",
    "from torchvision import models\n"
   ]
  },
  {
   "cell_type": "code",
   "execution_count": null,
   "id": "94b29c9c",
   "metadata": {},
   "outputs": [],
   "source": [
    "\n",
    "onnx_model = onnx.load('resnet18.onnx')\n",
    "\n",
    "graph = onnx_model.graph\n",
    "initalizers = dict()\n",
    "for init in graph.initializer:\n",
    "    initalizers[init.name] = numpy_helper.to_array(init)\n",
    "\n",
    "for name, p in model.named_parameters():\n",
    "    p.data = (torch.from_numpy(initalizers[name])).data"
   ]
  }
 ],
 "metadata": {
  "kernelspec": {
   "display_name": "Python 3 (ipykernel)",
   "language": "python",
   "name": "python3"
  },
  "language_info": {
   "codemirror_mode": {
    "name": "ipython",
    "version": 3
   },
   "file_extension": ".py",
   "mimetype": "text/x-python",
   "name": "python",
   "nbconvert_exporter": "python",
   "pygments_lexer": "ipython3",
   "version": "3.10.8"
  }
 },
 "nbformat": 4,
 "nbformat_minor": 5
}
