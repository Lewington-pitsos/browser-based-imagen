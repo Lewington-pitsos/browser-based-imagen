{
 "cells": [
  {
   "cell_type": "code",
   "execution_count": 1,
   "id": "02376291",
   "metadata": {},
   "outputs": [],
   "source": [
    "import torch\n",
    "from transformers import T5Tokenizer, T5EncoderModel"
   ]
  },
  {
   "cell_type": "code",
   "execution_count": null,
   "id": "7bffc6d8",
   "metadata": {},
   "outputs": [],
   "source": [
    "DEFAULT_T5_NAME = 'google/t5-v1_1-base'\n",
    "model = T5EncoderModel.from_pretrained(DEFAULT_T5_NAME)\n",
    "tokenizer = T5Tokenizer.from_pretrained(DEFAULT_T5_NAME)"
   ]
  },
  {
   "cell_type": "code",
   "execution_count": null,
   "id": "5b3765e1",
   "metadata": {},
   "outputs": [],
   "source": [
    "torch.onnx.export(\n",
    "    model, \n",
    "    (torch.randint(0, 8000, (1,256,)), torch.randint(0, 2, (1,256,))), \n",
    "    'toymodel/public/t5-model.onnx', \n",
    "    input_names=['tokens', 'attention_mask'], \n",
    "    output_names=['encoding'],\n",
    "    dynamic_axes={'tokens': {0: 'batch_size', 1: 'sequence_length'}, 'attention_mask': {0: 'batch_size', 1: 'sequence_length'}, 'encoding': {0: 'batch_size', 1: 'sequence_length'}}\n",
    ")"
   ]
  }
 ],
 "metadata": {
  "kernelspec": {
   "display_name": "Python 3 (ipykernel)",
   "language": "python",
   "name": "python3"
  },
  "language_info": {
   "codemirror_mode": {
    "name": "ipython",
    "version": 3
   },
   "file_extension": ".py",
   "mimetype": "text/x-python",
   "name": "python",
   "nbconvert_exporter": "python",
   "pygments_lexer": "ipython3",
   "version": "3.10.8"
  }
 },
 "nbformat": 4,
 "nbformat_minor": 5
}
