{
 "cells": [
  {
   "cell_type": "code",
   "execution_count": 1,
   "id": "02376291",
   "metadata": {},
   "outputs": [],
   "source": [
    "import torch\n",
    "from transformers import T5EncoderModel"
   ]
  },
  {
   "cell_type": "code",
   "execution_count": null,
   "id": "7bffc6d8",
   "metadata": {},
   "outputs": [],
   "source": [
    "DEFAULT_T5_NAME = 'google/t5-v1_1-base'\n",
    "model = T5EncoderModel.from_pretrained(DEFAULT_T5_NAME)"
   ]
  },
  {
   "cell_type": "code",
   "execution_count": null,
   "id": "5b3765e1",
   "metadata": {},
   "outputs": [],
   "source": [
    "torch.onnx.export(\n",
    "    model, \n",
    "    (torch.randint(0, 8000, (1,256,)), torch.randint(0, 2, (1,256,))), \n",
    "    'toymodel/public/t5-model.onnx', \n",
    "    input_names=['tokens', 'attention_mask'], \n",
    "    output_names=['encoding'],\n",
    "    dynamic_axes={'tokens': {0: 'batch_size', 1: 'sequence_length'}, 'attention_mask': {0: 'batch_size', 1: 'sequence_length'}, 'encoding': {0: 'batch_size', 1: 'sequence_length'}}\n",
    ")"
   ]
  }
 ],
 "metadata": {
  "kernelspec": {
   "display_name": "Python 3",
   "language": "python",
   "name": "python3"
  },
  "language_info": {
   "codemirror_mode": {
    "name": "ipython",
    "version": 3
   },
   "file_extension": ".py",
   "mimetype": "text/x-python",
   "name": "python",
   "nbconvert_exporter": "python",
   "pygments_lexer": "ipython3",
   "version": "3.10.8 (tags/v3.10.8:aaaf517, Oct 11 2022, 16:50:30) [MSC v.1933 64 bit (AMD64)]"
  },
  "vscode": {
   "interpreter": {
    "hash": "369f2c481f4da34e4445cda3fffd2e751bd1c4d706f27375911949ba6bb62e1c"
   }
  }
 },
 "nbformat": 4,
 "nbformat_minor": 5
}
